{
 "cells": [
  {
   "cell_type": "markdown",
   "metadata": {
    "collapsed": false,
    "id": "5FyreKBDgyEa"
   },
   "source": [
    "# Dependencies"
   ]
  },
  {
   "cell_type": "code",
   "execution_count": 1,
   "metadata": {
    "id": "LTVh5gH91kL1",
    "colab": {
     "base_uri": "https://localhost:8080/"
    },
    "executionInfo": {
     "status": "ok",
     "timestamp": 1688325605673,
     "user_tz": 180,
     "elapsed": 54892,
     "user": {
      "displayName": "IGNACIO VAZQUEZ",
      "userId": "00044151811505805314"
     }
    },
    "outputId": "c9d77729-ddcf-41a3-bb2b-95ba9139b74f"
   },
   "outputs": [
    {
     "output_type": "stream",
     "name": "stdout",
     "text": [
      "Requirement already satisfied: numpy in /usr/local/lib/python3.10/dist-packages (1.22.4)\n",
      "Requirement already satisfied: pandas in /usr/local/lib/python3.10/dist-packages (1.5.3)\n",
      "Requirement already satisfied: python-dateutil>=2.8.1 in /usr/local/lib/python3.10/dist-packages (from pandas) (2.8.2)\n",
      "Requirement already satisfied: pytz>=2020.1 in /usr/local/lib/python3.10/dist-packages (from pandas) (2022.7.1)\n",
      "Requirement already satisfied: numpy>=1.21.0 in /usr/local/lib/python3.10/dist-packages (from pandas) (1.22.4)\n",
      "Requirement already satisfied: six>=1.5 in /usr/local/lib/python3.10/dist-packages (from python-dateutil>=2.8.1->pandas) (1.16.0)\n",
      "Requirement already satisfied: torch in /usr/local/lib/python3.10/dist-packages (2.0.1+cu118)\n",
      "Requirement already satisfied: filelock in /usr/local/lib/python3.10/dist-packages (from torch) (3.12.2)\n",
      "Requirement already satisfied: typing-extensions in /usr/local/lib/python3.10/dist-packages (from torch) (4.6.3)\n",
      "Requirement already satisfied: sympy in /usr/local/lib/python3.10/dist-packages (from torch) (1.11.1)\n",
      "Requirement already satisfied: networkx in /usr/local/lib/python3.10/dist-packages (from torch) (3.1)\n",
      "Requirement already satisfied: jinja2 in /usr/local/lib/python3.10/dist-packages (from torch) (3.1.2)\n",
      "Requirement already satisfied: triton==2.0.0 in /usr/local/lib/python3.10/dist-packages (from torch) (2.0.0)\n",
      "Requirement already satisfied: cmake in /usr/local/lib/python3.10/dist-packages (from triton==2.0.0->torch) (3.25.2)\n",
      "Requirement already satisfied: lit in /usr/local/lib/python3.10/dist-packages (from triton==2.0.0->torch) (16.0.6)\n",
      "Requirement already satisfied: MarkupSafe>=2.0 in /usr/local/lib/python3.10/dist-packages (from jinja2->torch) (2.1.3)\n",
      "Requirement already satisfied: mpmath>=0.19 in /usr/local/lib/python3.10/dist-packages (from sympy->torch) (1.3.0)\n",
      "Collecting transformers\n",
      "  Downloading transformers-4.30.2-py3-none-any.whl (7.2 MB)\n",
      "\u001B[2K     \u001B[90m━━━━━━━━━━━━━━━━━━━━━━━━━━━━━━━━━━━━━━━━\u001B[0m \u001B[32m7.2/7.2 MB\u001B[0m \u001B[31m29.3 MB/s\u001B[0m eta \u001B[36m0:00:00\u001B[0m\n",
      "\u001B[?25hRequirement already satisfied: filelock in /usr/local/lib/python3.10/dist-packages (from transformers) (3.12.2)\n",
      "Collecting huggingface-hub<1.0,>=0.14.1 (from transformers)\n",
      "  Downloading huggingface_hub-0.15.1-py3-none-any.whl (236 kB)\n",
      "\u001B[2K     \u001B[90m━━━━━━━━━━━━━━━━━━━━━━━━━━━━━━━━━━━━━━\u001B[0m \u001B[32m236.8/236.8 kB\u001B[0m \u001B[31m14.6 MB/s\u001B[0m eta \u001B[36m0:00:00\u001B[0m\n",
      "\u001B[?25hRequirement already satisfied: numpy>=1.17 in /usr/local/lib/python3.10/dist-packages (from transformers) (1.22.4)\n",
      "Requirement already satisfied: packaging>=20.0 in /usr/local/lib/python3.10/dist-packages (from transformers) (23.1)\n",
      "Requirement already satisfied: pyyaml>=5.1 in /usr/local/lib/python3.10/dist-packages (from transformers) (6.0)\n",
      "Requirement already satisfied: regex!=2019.12.17 in /usr/local/lib/python3.10/dist-packages (from transformers) (2022.10.31)\n",
      "Requirement already satisfied: requests in /usr/local/lib/python3.10/dist-packages (from transformers) (2.27.1)\n",
      "Collecting tokenizers!=0.11.3,<0.14,>=0.11.1 (from transformers)\n",
      "  Downloading tokenizers-0.13.3-cp310-cp310-manylinux_2_17_x86_64.manylinux2014_x86_64.whl (7.8 MB)\n",
      "\u001B[2K     \u001B[90m━━━━━━━━━━━━━━━━━━━━━━━━━━━━━━━━━━━━━━━━\u001B[0m \u001B[32m7.8/7.8 MB\u001B[0m \u001B[31m81.4 MB/s\u001B[0m eta \u001B[36m0:00:00\u001B[0m\n",
      "\u001B[?25hCollecting safetensors>=0.3.1 (from transformers)\n",
      "  Downloading safetensors-0.3.1-cp310-cp310-manylinux_2_17_x86_64.manylinux2014_x86_64.whl (1.3 MB)\n",
      "\u001B[2K     \u001B[90m━━━━━━━━━━━━━━━━━━━━━━━━━━━━━━━━━━━━━━━━\u001B[0m \u001B[32m1.3/1.3 MB\u001B[0m \u001B[31m42.7 MB/s\u001B[0m eta \u001B[36m0:00:00\u001B[0m\n",
      "\u001B[?25hRequirement already satisfied: tqdm>=4.27 in /usr/local/lib/python3.10/dist-packages (from transformers) (4.65.0)\n",
      "Requirement already satisfied: fsspec in /usr/local/lib/python3.10/dist-packages (from huggingface-hub<1.0,>=0.14.1->transformers) (2023.6.0)\n",
      "Requirement already satisfied: typing-extensions>=3.7.4.3 in /usr/local/lib/python3.10/dist-packages (from huggingface-hub<1.0,>=0.14.1->transformers) (4.6.3)\n",
      "Requirement already satisfied: urllib3<1.27,>=1.21.1 in /usr/local/lib/python3.10/dist-packages (from requests->transformers) (1.26.16)\n",
      "Requirement already satisfied: certifi>=2017.4.17 in /usr/local/lib/python3.10/dist-packages (from requests->transformers) (2023.5.7)\n",
      "Requirement already satisfied: charset-normalizer~=2.0.0 in /usr/local/lib/python3.10/dist-packages (from requests->transformers) (2.0.12)\n",
      "Requirement already satisfied: idna<4,>=2.5 in /usr/local/lib/python3.10/dist-packages (from requests->transformers) (3.4)\n",
      "Installing collected packages: tokenizers, safetensors, huggingface-hub, transformers\n",
      "Successfully installed huggingface-hub-0.15.1 safetensors-0.3.1 tokenizers-0.13.3 transformers-4.30.2\n",
      "Requirement already satisfied: scikit-learn in /usr/local/lib/python3.10/dist-packages (1.2.2)\n",
      "Requirement already satisfied: numpy>=1.17.3 in /usr/local/lib/python3.10/dist-packages (from scikit-learn) (1.22.4)\n",
      "Requirement already satisfied: scipy>=1.3.2 in /usr/local/lib/python3.10/dist-packages (from scikit-learn) (1.10.1)\n",
      "Requirement already satisfied: joblib>=1.1.1 in /usr/local/lib/python3.10/dist-packages (from scikit-learn) (1.2.0)\n",
      "Requirement already satisfied: threadpoolctl>=2.0.0 in /usr/local/lib/python3.10/dist-packages (from scikit-learn) (3.1.0)\n",
      "Requirement already satisfied: wordcloud in /usr/local/lib/python3.10/dist-packages (1.8.2.2)\n",
      "Requirement already satisfied: numpy>=1.6.1 in /usr/local/lib/python3.10/dist-packages (from wordcloud) (1.22.4)\n",
      "Requirement already satisfied: pillow in /usr/local/lib/python3.10/dist-packages (from wordcloud) (8.4.0)\n",
      "Requirement already satisfied: matplotlib in /usr/local/lib/python3.10/dist-packages (from wordcloud) (3.7.1)\n",
      "Requirement already satisfied: contourpy>=1.0.1 in /usr/local/lib/python3.10/dist-packages (from matplotlib->wordcloud) (1.1.0)\n",
      "Requirement already satisfied: cycler>=0.10 in /usr/local/lib/python3.10/dist-packages (from matplotlib->wordcloud) (0.11.0)\n",
      "Requirement already satisfied: fonttools>=4.22.0 in /usr/local/lib/python3.10/dist-packages (from matplotlib->wordcloud) (4.40.0)\n",
      "Requirement already satisfied: kiwisolver>=1.0.1 in /usr/local/lib/python3.10/dist-packages (from matplotlib->wordcloud) (1.4.4)\n",
      "Requirement already satisfied: packaging>=20.0 in /usr/local/lib/python3.10/dist-packages (from matplotlib->wordcloud) (23.1)\n",
      "Requirement already satisfied: pyparsing>=2.3.1 in /usr/local/lib/python3.10/dist-packages (from matplotlib->wordcloud) (3.1.0)\n",
      "Requirement already satisfied: python-dateutil>=2.7 in /usr/local/lib/python3.10/dist-packages (from matplotlib->wordcloud) (2.8.2)\n",
      "Requirement already satisfied: six>=1.5 in /usr/local/lib/python3.10/dist-packages (from python-dateutil>=2.7->matplotlib->wordcloud) (1.16.0)\n"
     ]
    }
   ],
   "source": [
    "!pip install numpy\n",
    "!pip install pandas\n",
    "!pip install torch\n",
    "!pip install transformers\n",
    "!pip install scikit-learn\n",
    "!pip install wordcloud"
   ]
  },
  {
   "cell_type": "code",
   "execution_count": 2,
   "metadata": {
    "id": "J3r57ZIm2aNl",
    "colab": {
     "base_uri": "https://localhost:8080/"
    },
    "executionInfo": {
     "status": "ok",
     "timestamp": 1688325605674,
     "user_tz": 180,
     "elapsed": 6,
     "user": {
      "displayName": "IGNACIO VAZQUEZ",
      "userId": "00044151811505805314"
     }
    },
    "outputId": "b9fc74bb-6d77-4edc-f31d-ea6c83846b0f"
   },
   "outputs": [
    {
     "output_type": "stream",
     "name": "stdout",
     "text": [
      "Sun Jul  2 19:20:05 2023       \n",
      "+-----------------------------------------------------------------------------+\n",
      "| NVIDIA-SMI 525.85.12    Driver Version: 525.85.12    CUDA Version: 12.0     |\n",
      "|-------------------------------+----------------------+----------------------+\n",
      "| GPU  Name        Persistence-M| Bus-Id        Disp.A | Volatile Uncorr. ECC |\n",
      "| Fan  Temp  Perf  Pwr:Usage/Cap|         Memory-Usage | GPU-Util  Compute M. |\n",
      "|                               |                      |               MIG M. |\n",
      "|===============================+======================+======================|\n",
      "|   0  Tesla T4            Off  | 00000000:00:04.0 Off |                    0 |\n",
      "| N/A   43C    P8     9W /  70W |      0MiB / 15360MiB |      0%      Default |\n",
      "|                               |                      |                  N/A |\n",
      "+-------------------------------+----------------------+----------------------+\n",
      "                                                                               \n",
      "+-----------------------------------------------------------------------------+\n",
      "| Processes:                                                                  |\n",
      "|  GPU   GI   CI        PID   Type   Process name                  GPU Memory |\n",
      "|        ID   ID                                                   Usage      |\n",
      "|=============================================================================|\n",
      "|  No running processes found                                                 |\n",
      "+-----------------------------------------------------------------------------+\n"
     ]
    }
   ],
   "source": [
    "!nvidia-smi"
   ]
  },
  {
   "cell_type": "markdown",
   "metadata": {
    "collapsed": false,
    "id": "9K6CtNSngyEi"
   },
   "source": [
    "# Imports"
   ]
  },
  {
   "cell_type": "code",
   "execution_count": 3,
   "metadata": {
    "id": "71xVdhWe40br",
    "executionInfo": {
     "status": "ok",
     "timestamp": 1688325616125,
     "user_tz": 180,
     "elapsed": 10454,
     "user": {
      "displayName": "IGNACIO VAZQUEZ",
      "userId": "00044151811505805314"
     }
    }
   },
   "outputs": [],
   "source": [
    "import torch\n",
    "from sklearn.model_selection import train_test_split\n",
    "from transformers import GPT2LMHeadModel, get_scheduler, GPT2Tokenizer\n",
    "from torch.utils.data import DataLoader, Dataset"
   ]
  },
  {
   "cell_type": "markdown",
   "metadata": {
    "collapsed": false,
    "id": "X95B-jIsgyEj"
   },
   "source": [
    "# Constants"
   ]
  },
  {
   "cell_type": "code",
   "execution_count": 4,
   "metadata": {
    "id": "z4xHHZiW92HD",
    "colab": {
     "base_uri": "https://localhost:8080/"
    },
    "executionInfo": {
     "status": "ok",
     "timestamp": 1688325692812,
     "user_tz": 180,
     "elapsed": 76694,
     "user": {
      "displayName": "IGNACIO VAZQUEZ",
      "userId": "00044151811505805314"
     }
    },
    "outputId": "c7a009f9-4029-4e08-e3e5-fe4e92ec68de"
   },
   "outputs": [
    {
     "output_type": "stream",
     "name": "stdout",
     "text": [
      "Mounted at /content/drive\n"
     ]
    }
   ],
   "source": [
    "from google.colab import drive\n",
    "\n",
    "GOOGLE_DRIVE_BASE_DIR = \"/content/drive/MyDrive/TPs/Quinto/NLP\"\n",
    "drive.mount(\"/content/drive\")"
   ]
  },
  {
   "cell_type": "markdown",
   "metadata": {
    "collapsed": false,
    "id": "DmkqUP7PgyEk"
   },
   "source": [
    "# Tweets Generation"
   ]
  },
  {
   "cell_type": "markdown",
   "source": [
    "## Model train function"
   ],
   "metadata": {
    "collapsed": false
   }
  },
  {
   "cell_type": "code",
   "execution_count": null,
   "outputs": [],
   "source": [
    "def train_model(model, max_epochs, optimizer, scheduler, layers_freezed, loss_map):\n",
    "    for epoch in range(max_epochs):\n",
    "        model.train()\n",
    "        train_loss = 0\n",
    "\n",
    "        for batch in train_loader:\n",
    "            optimizer.zero_grad()\n",
    "\n",
    "            input_ids = batch[\"input_ids\"].to(device)\n",
    "            attention_mask = batch[\"attention_mask\"].to(device)\n",
    "            labels = batch[\"input_ids\"].to(device)\n",
    "            outputs = model(input_ids=input_ids, attention_mask=attention_mask, labels=labels)\n",
    "            loss = outputs.loss\n",
    "\n",
    "            train_loss += loss.item()\n",
    "\n",
    "            loss.backward()\n",
    "            optimizer.step()\n",
    "            scheduler.step()\n",
    "\n",
    "        avg_train_loss = train_loss / len(train_loader)\n",
    "        loss_map[f'freezed_{layers_freezed}'].append(avg_train_loss)\n",
    "        print(f\"Epoch {epoch + 1}: Average training loss = {avg_train_loss}\")\n",
    "\n",
    "        # Evaluate on the validation set\n",
    "        model.eval()\n",
    "        eval_loss = 0\n",
    "\n",
    "        with torch.no_grad():\n",
    "            for batch in val_loader:\n",
    "                input_ids = batch[\"input_ids\"].to(device)\n",
    "                attention_mask = batch[\"attention_mask\"].to(device)\n",
    "                labels = input_ids.clone().detach()\n",
    "\n",
    "                outputs = model(input_ids=input_ids, attention_mask=attention_mask, labels=labels)\n",
    "                loss = outputs.loss\n",
    "                eval_loss += loss.item()\n",
    "\n",
    "        avg_eval_loss = eval_loss / len(val_loader)\n",
    "        print(f\"Epoch {epoch + 1}: Average validation loss = {avg_eval_loss}\")\n",
    "\n",
    "    model.eval()\n",
    "    test_loss = 0\n",
    "\n",
    "    with torch.no_grad():\n",
    "        for batch in test_loader:\n",
    "            input_ids = batch[\"input_ids\"].to(device)\n",
    "            attention_mask = batch[\"attention_mask\"].to(device)\n",
    "            labels = input_ids.clone().detach()\n",
    "\n",
    "            outputs = model(input_ids=input_ids, attention_mask=attention_mask, labels=labels)\n",
    "            loss = outputs.loss\n",
    "            test_loss += loss.item()\n",
    "\n",
    "    avg_test_loss = test_loss / len(test_loader)\n",
    "    print(f\"Test loss: {avg_test_loss}\")\n",
    "\n",
    "    return model"
   ],
   "metadata": {
    "collapsed": false
   }
  },
  {
   "cell_type": "code",
   "execution_count": null,
   "outputs": [],
   "source": [
    "class TweetDataset(Dataset):\n",
    "    def __init__(self, encodings):\n",
    "        self.encodings = encodings\n",
    "\n",
    "    def __getitem__(self, index):\n",
    "        return {key: torch.tensor(val[index]) for key, val in self.encodings.items()}\n",
    "\n",
    "    def __len__(self):\n",
    "        return len(self.encodings.input_ids)"
   ],
   "metadata": {
    "collapsed": false
   }
  },
  {
   "cell_type": "markdown",
   "source": [
    "## Trump tweets generation"
   ],
   "metadata": {
    "collapsed": false
   }
  },
  {
   "cell_type": "code",
   "execution_count": null,
   "outputs": [],
   "source": [
    "trump_file_path = f\"{GOOGLE_DRIVE_BASE_DIR}/trump_tweets.txt\"\n",
    "trump = open(trump_file_path, encoding=\"UTF-8\").read().splitlines()"
   ],
   "metadata": {
    "collapsed": false
   }
  },
  {
   "cell_type": "code",
   "execution_count": 6,
   "metadata": {
    "id": "mSfGJmB7gyEl",
    "executionInfo": {
     "status": "ok",
     "timestamp": 1688325701723,
     "user_tz": 180,
     "elapsed": 5859,
     "user": {
      "displayName": "IGNACIO VAZQUEZ",
      "userId": "00044151811505805314"
     }
    },
    "colab": {
     "base_uri": "https://localhost:8080/",
     "height": 113,
     "referenced_widgets": [
      "b134f0a67bd649a681c9315f261767c0",
      "ab9990dac9594a9b8228df46f9576805",
      "095f8f0d730f49f39bbcf7c7d799c646",
      "0709343fae2e4a37965e2c7c16623756",
      "2222b5e50380457482706e46b47563f0",
      "b79d95077a7240d0bae30c53c99915ea",
      "4e3718e092d94e6f8bf253453792764b",
      "8037d797392c4f50a62e7ef4c04ce26a",
      "a9dab873d5174f6fba139c2d025a42f7",
      "19fde21f79a140f5b93b358a037bc42f",
      "e68959733fcf471081c4318c049eb9e9",
      "1400078899e349bab98e8a3cc20993e3",
      "d88c26e263304fbbb28e6536014836df",
      "3ce51bde68e14d3bb4cbf8a7381710b9",
      "b997f0a644c94adb996f600a0c971a54",
      "6ff0f22c109745ba88ad8918371f037e",
      "9bfe269b9f764d8087b7a6e6fafad026",
      "e2ec01d6f93d426e928859e886018c3a",
      "766531f1328844d2bf83b21fb25e7748",
      "02995bd1265b40fc831f3ebafabe2981",
      "5402886f97ab4d9ba69b4144ed79513d",
      "c7ea2b66ef8f4a969a9296dada2e4a63",
      "ffc24b2ad25a488bbadf191867967584",
      "2c47dc5864544bdbb1541220e9a12788",
      "15d421b6b3184dc7b9f3d95c7be20dee",
      "1f17dd675a1e4fb9a5ba289a2890cb08",
      "17dc411e3ea4400182e3470bd55037d1",
      "ec5fda7e3a3c464a90f833809b27043a",
      "c6e323176ed046f7aabe8971d12d339d",
      "1f6ef9f2cb23469bb8073ce2645d520e",
      "c033380834a6469b89297b1b19347c99",
      "9b24191002ab4db49f8964158a884552",
      "4198ec4f99ea4383b2bbe2e70846928b"
     ]
    },
    "outputId": "7669a2e6-b028-437b-957d-9f5539d034cf"
   },
   "outputs": [
    {
     "output_type": "display_data",
     "data": {
      "text/plain": [
       "Downloading (…)olve/main/vocab.json:   0%|          | 0.00/1.04M [00:00<?, ?B/s]"
      ],
      "application/vnd.jupyter.widget-view+json": {
       "version_major": 2,
       "version_minor": 0,
       "model_id": "b134f0a67bd649a681c9315f261767c0"
      }
     },
     "metadata": {}
    },
    {
     "output_type": "display_data",
     "data": {
      "text/plain": [
       "Downloading (…)olve/main/merges.txt:   0%|          | 0.00/456k [00:00<?, ?B/s]"
      ],
      "application/vnd.jupyter.widget-view+json": {
       "version_major": 2,
       "version_minor": 0,
       "model_id": "1400078899e349bab98e8a3cc20993e3"
      }
     },
     "metadata": {}
    },
    {
     "output_type": "display_data",
     "data": {
      "text/plain": [
       "Downloading (…)lve/main/config.json:   0%|          | 0.00/665 [00:00<?, ?B/s]"
      ],
      "application/vnd.jupyter.widget-view+json": {
       "version_major": 2,
       "version_minor": 0,
       "model_id": "ffc24b2ad25a488bbadf191867967584"
      }
     },
     "metadata": {}
    }
   ],
   "source": [
    "seed = 40\n",
    "\n",
    "train_data, test_data = train_test_split(trump, test_size=0.3, random_state=seed)\n",
    "\n",
    "test_data, val_data = train_test_split(test_data, test_size=0.5, random_state=seed)\n",
    "\n",
    "# Initialize the GPT-2 model and tokenizer\n",
    "tokenizer = GPT2Tokenizer.from_pretrained('gpt2')\n",
    "\n",
    "tokenizer.add_special_tokens({\n",
    "    \"eos_token\": \"</s>\",\n",
    "    \"bos_token\": \"<s>\",\n",
    "    \"unk_token\": \"<unk>\",\n",
    "    \"pad_token\": tokenizer.eos_token,\n",
    "    \"mask_token\": \"<mask>\"\n",
    "})\n",
    "\n",
    "train_tokenized = tokenizer(train_data, padding=\"max_length\", truncation=True, max_length=128)\n",
    "val_tokenized = tokenizer(val_data, padding=\"max_length\", truncation=True, max_length=128)\n",
    "test_tokenized = tokenizer(test_data, padding=\"max_length\", truncation=True, max_length=128)\n",
    "\n",
    "train_dataset = TweetDataset(train_tokenized)\n",
    "val_dataset = TweetDataset(val_tokenized)\n",
    "test_dataset = TweetDataset(test_tokenized)\n",
    "\n",
    "train_loader = DataLoader(train_dataset, batch_size=32, shuffle=True)\n",
    "val_loader = DataLoader(val_dataset, batch_size=32, shuffle=False)\n",
    "test_loader = DataLoader(test_dataset, batch_size=32, shuffle=False)\n",
    "\n",
    "max_epochs = 10"
   ]
  },
  {
   "cell_type": "code",
   "execution_count": 8,
   "metadata": {
    "colab": {
     "base_uri": "https://localhost:8080/",
     "height": 480,
     "referenced_widgets": [
      "2a6a6f1b5b6a4445aae308f7a80c92a9",
      "b57c3563250242dc888d48573b31f13f",
      "999c39a4672a4f55bd960af88ed216c5",
      "f655633975ed454f86b8bbdd85d72ad7",
      "1ca76a370de140e0b5a5c1598329d019",
      "02855f055a744011950c119ea28c0101",
      "1a589b208e3f4f189b5288c6f42f7860",
      "f87ad86e97634ec29c06ee33fc64c240",
      "cb964483997d4ad2bff0fac2af6a483c",
      "b2449d0aaca648a29710d9249eede474",
      "7f865c12a4304c0bad6b0c03b309a740",
      "98ffd6fd84864d188d2d2bf8ec3deb41",
      "50dee1f577294402875d98b631c18fe4",
      "858f8875df834175977cf793939e0d71",
      "5a776534d8c245f08aacb365ffd9c8c5",
      "11d5c5d8e9ff43beb409b2b2babba861",
      "b7ea65756e384d65bfe58fe1faee92fb",
      "17ddc83f399c432896b89cf082a2aa54",
      "93c885b9328647c98d0a161055038054",
      "4888fdc9cf944b36b55d165709184ec0",
      "cfff3c18e2e84cc6b58007ec330d865b",
      "efe5b80ec677454ebc62cfc86c4b4802"
     ]
    },
    "id": "3bqqdktagyEo",
    "executionInfo": {
     "status": "ok",
     "timestamp": 1688325849844,
     "user_tz": 180,
     "elapsed": 148123,
     "user": {
      "displayName": "IGNACIO VAZQUEZ",
      "userId": "00044151811505805314"
     }
    },
    "outputId": "c07689a3-de5f-4116-b660-d508fe371353"
   },
   "outputs": [
    {
     "output_type": "display_data",
     "data": {
      "text/plain": [
       "Downloading model.safetensors:   0%|          | 0.00/548M [00:00<?, ?B/s]"
      ],
      "application/vnd.jupyter.widget-view+json": {
       "version_major": 2,
       "version_minor": 0,
       "model_id": "2a6a6f1b5b6a4445aae308f7a80c92a9"
      }
     },
     "metadata": {}
    },
    {
     "output_type": "display_data",
     "data": {
      "text/plain": [
       "Downloading (…)neration_config.json:   0%|          | 0.00/124 [00:00<?, ?B/s]"
      ],
      "application/vnd.jupyter.widget-view+json": {
       "version_major": 2,
       "version_minor": 0,
       "model_id": "98ffd6fd84864d188d2d2bf8ec3deb41"
      }
     },
     "metadata": {}
    },
    {
     "output_type": "stream",
     "name": "stdout",
     "text": [
      "### Freezing 0 Layers ###\n",
      "### Training ###\n",
      "Epoch 1: Average training loss = 5.240170931816101\n",
      "Epoch 1: Average validation loss = 2.980191151301066\n",
      "Epoch 2: Average training loss = 2.26047545671463\n",
      "Epoch 2: Average validation loss = 1.8160195350646973\n",
      "Epoch 3: Average training loss = 1.79125314950943\n",
      "Epoch 3: Average validation loss = 1.7163787682851155\n",
      "Epoch 4: Average training loss = 1.7315409541130067\n",
      "Epoch 4: Average validation loss = 1.6952337423960369\n",
      "Epoch 5: Average training loss = 1.709425687789917\n",
      "Epoch 5: Average validation loss = 1.674269199371338\n",
      "Epoch 6: Average training loss = 1.677226960659027\n",
      "Epoch 6: Average validation loss = 1.657637317975362\n",
      "Epoch 7: Average training loss = 1.6593581557273864\n",
      "Epoch 7: Average validation loss = 1.646461844444275\n",
      "Epoch 8: Average training loss = 1.6470757961273192\n",
      "Epoch 8: Average validation loss = 1.6390719413757324\n",
      "Epoch 9: Average training loss = 1.6328718662261963\n",
      "Epoch 9: Average validation loss = 1.634651780128479\n",
      "Epoch 10: Average training loss = 1.6217535853385925\n",
      "Epoch 10: Average validation loss = 1.6331782738367717\n",
      "Test loss: 1.4928785959879558\n"
     ]
    }
   ],
   "source": [
    "trump_loss_map = {}\n",
    "trump_models = []\n",
    "\n",
    "device = f\"cuda:{torch.cuda.current_device()}\" if torch.cuda.is_available() else \"cpu\"\n",
    "\n",
    "layers_to_freeze = [0, 4, 8, 12]\n",
    "for freeze in layers_to_freeze:\n",
    "    trump_loss_map[f\"{freeze} Layers Freezed\"] = []\n",
    "\n",
    "    model = GPT2LMHeadModel.from_pretrained('gpt2')\n",
    "    model.to(device)\n",
    "    optimizer = torch.optim.AdamW(model.parameters(), lr=1e-5)\n",
    "    scheduler = get_scheduler(\"linear\", optimizer, num_warmup_steps=0,\n",
    "                              num_training_steps=max_epochs * len(train_loader))\n",
    "\n",
    "    print(f\"### Freezing {freeze} Layers ###\")\n",
    "    for i in range(freeze):\n",
    "        for param in model.transformer.h[i].parameters():\n",
    "            param.requires_grad = False\n",
    "\n",
    "    print(\"### Training ###\")\n",
    "    trump_models.append(train_model(model, max_epochs, optimizer, scheduler, freeze, trump_loss_map))"
   ]
  },
  {
   "cell_type": "code",
   "execution_count": null,
   "outputs": [],
   "source": [
    "prompt = \"Trump is\"\n",
    "max_length = 140\n",
    "trump_models[0].eval()  # Run with best model (no layers freezed)\n",
    "input_ids = tokenizer.encode(prompt, return_tensors='pt').to(device)\n",
    "\n",
    "generated_trump_tweets = []\n",
    "\n",
    "for i in range(100):\n",
    "    output = trump_models[0].generate(\n",
    "        input_ids=input_ids,\n",
    "        do_sample=True,\n",
    "        num_return_sequences=4,\n",
    "        temperature=0.9,\n",
    "        max_length=max_length,\n",
    "        top_k=50,\n",
    "        top_p=0.95,\n",
    "    )\n",
    "\n",
    "    for tweet in output:\n",
    "        generated_trump_tweets.append(tokenizer.decode(tweet, skip_special_tokens=True))"
   ],
   "metadata": {
    "collapsed": false
   }
  },
  {
   "cell_type": "markdown",
   "source": [
    "## Biden Tweets Generation"
   ],
   "metadata": {
    "collapsed": false
   }
  },
  {
   "cell_type": "code",
   "execution_count": null,
   "outputs": [],
   "source": [
    "biden_file_path = f\"{GOOGLE_DRIVE_BASE_DIR}/biden_tweets.txt\"\n",
    "biden = open(biden_file_path, encoding=\"UTF-8\").read().splitlines()"
   ],
   "metadata": {
    "collapsed": false
   }
  },
  {
   "cell_type": "code",
   "execution_count": null,
   "outputs": [],
   "source": [
    "seed = 40\n",
    "\n",
    "train_data, test_data = train_test_split(biden, test_size=0.3, random_state=seed)\n",
    "\n",
    "test_data, val_data = train_test_split(test_data, test_size=0.5, random_state=seed)\n",
    "\n",
    "# Initialize the GPT-2 model and tokenizer\n",
    "tokenizer = GPT2Tokenizer.from_pretrained('gpt2')\n",
    "\n",
    "tokenizer.add_special_tokens({\n",
    "    \"eos_token\": \"</s>\",\n",
    "    \"bos_token\": \"<s>\",\n",
    "    \"unk_token\": \"<unk>\",\n",
    "    \"pad_token\": tokenizer.eos_token,\n",
    "    \"mask_token\": \"<mask>\"\n",
    "})\n",
    "\n",
    "train_tokenized = tokenizer(train_data, padding=\"max_length\", truncation=True, max_length=128)\n",
    "val_tokenized = tokenizer(val_data, padding=\"max_length\", truncation=True, max_length=128)\n",
    "test_tokenized = tokenizer(test_data, padding=\"max_length\", truncation=True, max_length=128)\n",
    "\n",
    "\n",
    "class TweetDataset(Dataset):\n",
    "    def __init__(self, encodings):\n",
    "        self.encodings = encodings\n",
    "\n",
    "    def __getitem__(self, index):\n",
    "        return {key: torch.tensor(val[index]) for key, val in self.encodings.items()}\n",
    "\n",
    "    def __len__(self):\n",
    "        return len(self.encodings.input_ids)\n",
    "\n",
    "\n",
    "train_dataset = TweetDataset(train_tokenized)\n",
    "val_dataset = TweetDataset(val_tokenized)\n",
    "test_dataset = TweetDataset(test_tokenized)\n",
    "\n",
    "train_loader = DataLoader(train_dataset, batch_size=32, shuffle=True)\n",
    "val_loader = DataLoader(val_dataset, batch_size=32, shuffle=False)\n",
    "test_loader = DataLoader(test_dataset, batch_size=32, shuffle=False)\n",
    "\n",
    "max_epochs = 10"
   ],
   "metadata": {
    "collapsed": false
   }
  },
  {
   "cell_type": "code",
   "execution_count": null,
   "outputs": [],
   "source": [
    "biden_loss_map = {}\n",
    "biden_models = []\n",
    "\n",
    "device = f\"cuda:{torch.cuda.current_device()}\" if torch.cuda.is_available() else \"cpu\"\n",
    "\n",
    "layers_to_freeze = [0, 4, 8, 12]\n",
    "for freeze in layers_to_freeze:\n",
    "    biden_loss_map[f\"{freeze} Layers Freezed\"] = []\n",
    "\n",
    "    model = GPT2LMHeadModel.from_pretrained('gpt2')\n",
    "    model.to(device)\n",
    "    optimizer = torch.optim.AdamW(model.parameters(), lr=1e-5)\n",
    "    scheduler = get_scheduler(\"linear\", optimizer, num_warmup_steps=0,\n",
    "                              num_training_steps=max_epochs * len(train_loader))\n",
    "\n",
    "    print(f\"### Freezing {freeze} Layers ###\")\n",
    "    for i in range(freeze):\n",
    "        for param in model.transformer.h[i].parameters():\n",
    "            param.requires_grad = False\n",
    "\n",
    "    print(\"### Training ###\")\n",
    "    biden_models.append(train_model(model, max_epochs, optimizer, scheduler, freeze, biden_loss_map))"
   ],
   "metadata": {
    "collapsed": false
   }
  },
  {
   "cell_type": "code",
   "execution_count": null,
   "outputs": [],
   "source": [
    "prompt = \"Biden is\"\n",
    "max_length = 140\n",
    "biden_models[0].eval()  # Run with best model (no layers freezed)\n",
    "input_ids = tokenizer.encode(prompt, return_tensors='pt').to(device)\n",
    "\n",
    "generated_biden_tweets = []\n",
    "\n",
    "for i in range(100):\n",
    "    output = biden_models[0].generate(\n",
    "        input_ids=input_ids,\n",
    "        do_sample=True,\n",
    "        num_return_sequences=4,\n",
    "        temperature=0.9,\n",
    "        max_length=max_length,\n",
    "        top_k=50,\n",
    "        top_p=0.95,\n",
    "    )\n",
    "\n",
    "    for tweet in output:\n",
    "        generated_biden_tweets.append(tokenizer.decode(tweet, skip_special_tokens=True))"
   ],
   "metadata": {
    "collapsed": false
   }
  },
  {
   "cell_type": "markdown",
   "source": [
    "# Tweets Analysis"
   ],
   "metadata": {
    "collapsed": false
   }
  },
  {
   "cell_type": "code",
   "execution_count": null,
   "outputs": [],
   "source": [
    "!pip install matplotlib\n",
    "import matplotlib.pyplot as plt\n",
    "import numpy as np\n",
    "from wordcloud import WordCloud\n",
    "from nltk.corpus import stopwords\n",
    "from nltk.stem import WordNetLemmatizer\n",
    "from nltk.tokenize import word_tokenize\n",
    "import nltk\n",
    "import string\n",
    "from nltk.sentiment import SentimentIntensityAnalyzer\n",
    "\n",
    "nltk.download('vader_lexicon')\n",
    "nltk.download(\"stopwords\")\n",
    "nltk.download('punkt')\n",
    "nltk.download('wordnet')"
   ],
   "metadata": {
    "collapsed": false
   }
  },
  {
   "cell_type": "code",
   "execution_count": null,
   "outputs": [],
   "source": [
    "def preprocess_and_lemmatize(text):\n",
    "    # Tokenización de palabras y convertir texto a minúsculas\n",
    "    tokens = word_tokenize(text.lower())\n",
    "    # Filtrar signos de puntuación\n",
    "    tokens = [token for token in tokens if token not in punctuation]\n",
    "    # Lematización de palabras\n",
    "    lemmatized_tokens = [lemmatizer.lemmatize(token) for token in tokens]\n",
    "    # Unir tokens lematizados en una cadena de texto\n",
    "    processed_text = ' '.join(lemmatized_tokens)\n",
    "    return processed_text"
   ],
   "metadata": {
    "collapsed": false
   }
  },
  {
   "cell_type": "markdown",
   "source": [
    "## Average Loss Comparison"
   ],
   "metadata": {
    "collapsed": false
   }
  },
  {
   "cell_type": "markdown",
   "source": [
    "### Trump Tweets"
   ],
   "metadata": {
    "collapsed": false
   }
  },
  {
   "cell_type": "code",
   "execution_count": null,
   "outputs": [],
   "source": [
    "for k, v in trump_loss_map.items():\n",
    "    plt.plot(v, label=k)\n",
    "\n",
    "plt.xlabel(\"Epochs\")\n",
    "plt.ylabel(\"Average Loss\")\n",
    "plt.legend()\n",
    "plt.show()"
   ],
   "metadata": {
    "collapsed": false
   }
  },
  {
   "cell_type": "markdown",
   "source": [
    "### Biden Tweets"
   ],
   "metadata": {
    "collapsed": false
   }
  },
  {
   "cell_type": "code",
   "execution_count": null,
   "outputs": [],
   "source": [
    "for k, v in biden_loss_map.items():\n",
    "    plt.plot(v, label=k)\n",
    "\n",
    "plt.xlabel(\"Epochs\")\n",
    "plt.ylabel(\"Average Loss\")\n",
    "plt.legend()\n",
    "plt.show()"
   ],
   "metadata": {
    "collapsed": false
   }
  },
  {
   "cell_type": "markdown",
   "source": [
    "## Sentiment Analysis"
   ],
   "metadata": {
    "collapsed": false
   }
  },
  {
   "cell_type": "markdown",
   "source": [
    "### Trump tweets"
   ],
   "metadata": {
    "collapsed": false
   }
  },
  {
   "cell_type": "code",
   "source": [
    "trump_sentiment_tweets = []\n",
    "\n",
    "for tweet in generated_trump_tweets:\n",
    "    trump_sentiment_tweets.append(tweet.splitlines())\n",
    "\n",
    "trump_sentiment_tweets = [item for sublist in trump_sentiment_tweets for item in sublist]\n",
    "\n",
    "sia = SentimentIntensityAnalyzer()\n",
    "\n",
    "trump_negative_tweets = []\n",
    "trump_scores = []\n",
    "for tweet in trump_sentiment_tweets:\n",
    "    sentiment_scores = sia.polarity_scores(tweet)\n",
    "    if sentiment_scores['neg'] > 0.3:\n",
    "        trump_scores.append(sentiment_scores)\n",
    "        trump_negative_tweets.append(tweet)"
   ],
   "metadata": {
    "colab": {
     "base_uri": "https://localhost:8080/"
    },
    "id": "-P5Jc6-_BjeS",
    "executionInfo": {
     "status": "ok",
     "timestamp": 1688326700901,
     "user_tz": 180,
     "elapsed": 16,
     "user": {
      "displayName": "IGNACIO VAZQUEZ",
      "userId": "00044151811505805314"
     }
    },
    "outputId": "5d8019a3-cb2b-4012-e50f-9ca98f1c38b4"
   },
   "execution_count": 14,
   "outputs": [
    {
     "output_type": "stream",
     "name": "stdout",
     "text": [
      "Biden is in a state of crisis because of what he says are the lies and lies of his GOP base. His remarks are especially dangerous.\n",
      "Biden is still not convinced.\n",
      "Biden is a Republican. So I'm not sure he can't win here.\n",
      "Biden is now facing a felony charge of sexual assault, and has been suspended without pay.\n",
      "Biden is the first Republican to face charges of child sex abuse, the first Republican to be charged for a crime involving a child, and the first Republican to lose a congressional race.\n",
      "Biden is very aware of the dangers of allowing these people to grow up to be criminals.\n",
      "Biden is not a true conservative.\n",
      "We need a national debate about how to respond to the crisis in Syria and the threat posed by ISIS and ISIL, which are committed to supporting terrorists and terrorists of every stripe.\n",
      "\"The president is just a liar. He is a liar. And he should be ashamed of himself,\" Bush said in a tweet on Monday.\n",
      "Biden is also under fire from Democrats who accuse him of racism and homophobia for his call to boycott white people's funerals.\n",
      "He was also accused of sexually assaulting another 15-year-old girl in 2012.\n",
      "Biden is going to make a statement on the issues of gun control and gun violence.\n",
      "Biden is currently facing Senate obstruction and has been repeatedly accused of lying.\n",
      "Biden is an unabashed conservative, but there are people who believe he's wrong for saying that illegal immigration has created a huge problem, and there is no better way to explain it than to blame illegal immigration for the recent terror attacks in Paris.\"\n",
      "Biden is not a good person.\n",
      "Biden is just about to die.\n",
      "Biden is a liar, a hypocrite, a liar of the Republican party and a liar of President Barack Obama.\n",
      "Biden is looking to expand the federal government's \"zero tolerance\" approach to hate crime, as well as the federal government's efforts to combat violent criminals.\n",
      "Biden is a good man, but he has a lot of bad blood.\n",
      "Biden is not a great president.\"\n",
      "Biden is just plain stupid.\n",
      "Biden is not a libertarian, but he does believe that the government should take care of our children's health, not treat it like a crime. He is a good guy, but he can't support the kind of policies that create unnecessary pain.\n",
      "Biden is an elected president. And as a longtime supporter of Planned Parenthood, he's seen it as a terrible tragedy.\n",
      "Biden is being accused of making a bad judgment on the issue of sexual harassment in the media.\n",
      "Biden is on the \"wrong side of history.\"\n",
      "Biden is at no fault in having failed to do so. As much as he wants to make sure no one gets hurt or killed, he has made many bad decisions in the past.\n",
      "Biden is a veteran of the Afghanistan War and is a Republican.\n",
      "Biden is a \"bigot,\" but he has no problem with people who vote for him.\n",
      "\"These attacks are very divisive and it would be wrong for the Democrats to attack him and attack him personally,\" Sen. Barbara Boxer, D-Calif., said. \"As they are saying, he's a man for his country and he'll fight for it.\n",
      "Biden is right and everyone else is wrong.\n",
      "Biden is not exactly known for his progressive ideas, but he still supports the war on terror. He has voted for the war against ISIS and also supports the use of drones, which have killed thousands of civilians.\n",
      "Biden is pushing for a bill that would make it illegal for gun owners to buy assault rifles.\n",
      "Biden is not just interested in doing something stupid. He is also trying to destroy ObamaCare.\n",
      "Biden is currently facing multiple questions about whether he is lying when he says he is willing to back a gun ban in order to stop his Democratic opponent, Hillary Clinton.\n",
      "Biden is leading Republicans into a humiliating defeat in their race for the White House.\n",
      "Biden is currently under investigation for violating federal campaign finance law and is facing criminal charges in Delaware.\n",
      "Biden is leading a war against social injustice. He's getting involved in the war on black people and against black people, and that's why it's so dangerous to have two sides in this.\"\n",
      "Biden is \"diligent and a dangerous Republican.\"\n",
      "Biden is on trial on charges that he violated his oath to secrecy.\n",
      "Biden is one of many Republicans who supports an assault weapons ban that will go into effect on Jan. 1, 2018. He has said he would kill an assault weapon ban for all Americans.\n",
      "Biden is a serious candidate and will have to win over conservative members of Congress, but Trump's refusal to condemn the racist attacks he has made on immigrants and immigrants from other countries will only deepen the hatred of minorities.\n",
      "Biden is going to vote no.\n",
      "Biden is trying to protect a woman, but he's a disgrace to women and a terrible father.\n",
      "Biden is no stranger to the issues around gun control, as he also has a history of gun control activism.\n",
      "Last year, the NRA lobbied the Supreme Court to reinstate the death penalty for gun owners.\n",
      "Biden is not so confident.\n",
      "Biden is an idiot.\n",
      "Biden is no fool but he can't understand how this happens. I believe he was wrong to think that Obama was incompetent. He made a mistake but he has a great job of running his country.\n",
      "Biden is still an unrepentant racist.\n",
      "Biden is in the fight over Medicare.\n",
      "Biden is just a weak one.\n",
      "Biden is not a Muslim. He is a Democrat with no history of racism.\n",
      "Biden is a great Democrat, but he's just a lame Democrat who should be ashamed of himself for his lack of leadership.\n",
      "Biden is being attacked in the same way that he attacked Hillary Clinton. It's a racist attack on the White House.\n",
      "Biden is a hero and the GOP will fight hard to defeat him in November.\n",
      "Biden is a huge, big, big, big liar and he's never been tested for anything by anyone, no matter how bad the situation.\n",
      "Biden is a \"manicured\" president who wants to make sure Americans are safe and secure from terrorism and foreign threats in the face of the threat from foreign leaders, especially foreign terrorist organizations.\n",
      "Biden is not going to win.\n",
      "Biden is a staunch opponent of the opioid crisis and an ardent supporter of the opioid crisis.\n",
      "Biden is not the only one who thinks of the Iraq War as a \"moral\" problem. As he was a Republican, he believes the war in Iraq needs to be stopped and that the war is no longer worth waging.\n",
      "Biden is \"the wrong choice for president,\" and should resign, a poll released today shows.\n",
      "Biden is a Republican who supports the war on terrorism and opposes a border wall and a national security state, even though he says no one really has to pay attention.\n",
      "Biden is so pissed off over the Democrats. And frankly, his party is so stupid.\n",
      "Biden is a liar.\n",
      "\"You know, Donald Trump said that he'd let Muslims into America, but only after all those Muslim terrorists were killed in our country. He's got to admit that is wrong. And he needs to admit that is a lie!\"\n",
      "Biden is being blamed for taking on a controversial foreign policy agenda.\n",
      "Biden is a liar, he's lying about these cases.\"\n",
      "Biden is not a perfect person.\n",
      "In a speech last month, Biden said he regrets supporting Bush's Iraq war.\n",
      "Biden is currently facing a campaign-finance battle.\n",
      "Biden is a Republican. And if you don't trust him, you can't trust him.\n",
      "Biden is making a lot of noise about this, as the media is trying to shut down the issue of rape and sexual assault in America and to stop any talk of sexual violence on college campuses.\n",
      "Biden is still very much a threat.\n",
      "Biden is very upset because he doesn't know who the \"sons\" are. He doesn't know how many people in his family have been killed by terrorists. He just doesn't care.\n",
      "Biden is currently in the early stages of a two-month stint in jail awaiting sentencing, pending trial on charges of misdemeanor contempt of court, criminal contempt, and criminal contempt of court.\n",
      "Biden is pushing for his own party to seek a second term after he was forced out in 2010 for refusing to drop the Iraq War.\n",
      "Biden is a Republican and a Democrat who lost a battle against Planned Parenthood in 2009.\n",
      "Biden is in a bad state.\n",
      "Biden is no saint.\n",
      "Biden is a Democrat who ran on a platform of fighting racism and homophobia.\n",
      "Biden is a Republican with a record of blocking gun control for nearly four decades.\n",
      "Biden is still fighting.\n",
      "Biden is an open-minded American who is willing to support the war on terrorism.\n",
      "Biden is no longer President.\n",
      "Biden is willing to fight again.\n",
      "Biden is a good person, but we know he has failed. He has failed his own country.\n",
      "Biden is no saint, nor is Barack Obama an idiot.\n",
      "Biden is right, a lot of people hate this race.\n",
      "Biden is being accused of racism.\n",
      "Biden is under fire for suggesting that a ban would do more to combat sexual harassment than is true.\n",
      "But a lot of people say Trump is a clown and a bully.\n",
      "Biden is a liar, a criminal, a bigot, a liar, a liar, a criminal, a liar.\n",
      "Biden is just a bad name for a Democrat.\n",
      "Biden is a man who wants the fight.\n",
      "Biden is no better than a liar.\n",
      "Biden is a Democrat who has supported the Iraq war and its aftermath. He has been accused of lying about his support for the Iraq War.\n",
      "Biden is also on record calling for a vote on the bill that would allow the use of drones to kill suspected terrorists in the Middle East.\n",
      "Biden is a hero, but a liar.\n",
      "Biden is pushing for an abortion ban in order to combat her \"radical Islamophobic rhetoric.\"\n",
      "Biden is pushing a $25 billion war on drugs.\n",
      "Biden is not going to come out of his ass to try and kill people.\"\n",
      "Biden is a liar and a bully.\n",
      "Biden is \"a fool\" by far.\n",
      "Biden is not about to admit that they may be wrong.\n",
      "Biden is a staunch supporter of the War on Terror, a White House official said Friday.\n",
      "Biden is \"an idiot\" for his comments and has no reason to believe there is a real war on drugs.\n",
      "Biden is the only Republican in Congress to have faced any serious question about gun violence.\n",
      "Biden is no longer a Democrat.\n",
      "Biden is on trial for tax fraud, and the House has no evidence whatsoever to support a felony charge against him.\n",
      "Biden is pushing for a ban on Muslim immigration to the US, including a ban on Muslims entering the US, and a ban on the practice of torture.\n",
      "Biden is also now expected to be charged with corruption, which is punishable by up to five years in prison.\n",
      "Biden is just a bad man.\n",
      "He's also supported the Affordable Care Act, which is a disaster and is already killing people's lives.\n",
      "Biden is a liar and a liar.\"\n",
      "Biden is no longer a Republican.\"\n",
      "Biden is so angry that he's going to vote against the \"tax cuts for millionaires.\"\n",
      "Biden is currently being prosecuted for lying about the fact that he lied about his tax returns.\n",
      "Biden is on record on the importance of civil liberties and the Constitution, but he continues to run the nation's largest gun lobby, and the NRA continues to attack other groups as dangerous gun terrorists, especially gun owners.\n",
      "Biden is already losing.\n",
      "Biden is a man who has made a career out of having the worst record in the nation. He has been accused of a crime and he should be fired from office.\n",
      "Biden is trying to get in a fight with Biden over the abortion ban.\n",
      "Biden is still undecided.\n",
      "Biden is so focused on the Iraq war that he's actually been very much a victim of Republicans talking about the Iraq war in the past, the Iraq war on ISIS.\n",
      "Biden is not trying to win the Democratic nomination, but it is the Democrats' fault.\n",
      "Biden is a liar.\n",
      "Biden is not alone in his determination to stop the war, and he'll fight to end Obamacare if elected.\n",
      "Biden is right and Republicans should stop lying.\n",
      "Biden is so ashamed of what he is doing that he makes a mockery of his own.\n",
      "Biden is a strong supporter of gun control, but he is still going to keep pushing for legislation that would end the assault weapons ban as well.\n",
      "Biden is a liar\n",
      "Biden is not a Democrat, his party won't win the presidency. But he is a candidate, and he can still win a new party over the next 100 years.\n",
      "Biden is at a loss.\n",
      "Biden is looking at the potential impact of the new gun ban on the US.\n",
      "Biden is a liar.\n",
      "Biden is still undecided.\n",
      "Biden is going to continue to push for a bill that would allow police officers to shoot people suspected of gun violence.\n",
      "Biden is going to go to prison soon.\n",
      "What are your views on the Iraq war?\n",
      "Biden is a serious threat to both her party and the presidency.\n",
      "Biden is not the only one to be arrested. In 2011, former presidential candidate and Massachusetts senator, John Kerry, was stopped at a Minneapolis airport on suspicion of illegal travel while in the state. Kerry was arrested at a Newark airport for a DUI and charged with a violation of federal immigration law.\n",
      "Biden is just one person who deserves to stand up against bullying, harassment and discrimination.\n",
      "Biden is just as angry as the Republicans.\n",
      "Follow Jeff Poor on Twitter @jeff_poor\n",
      "Biden is not happy with the move to send this argument into the future.\n",
      "Biden is running the nation's highest-profile abortion ban without the support of the American public.\n",
      "Biden is not a very popular guy.\n",
      "Biden is not so sure.\n",
      "Biden is still in court today but may have some issues, possibly including a possible indictment for murder or attempted murder.\n",
      "Biden is an opponent of the Iraq War.\n",
      "Biden is just another Republican who wants to help us stop the war.\n",
      "Biden is being accused of being hypocritical. As an openly gay Republican, he has always refused to defend LGBT equality.\n",
      "He should stop defending them and stop supporting them.\n",
      "Senate Judiciary Committee Chairman Chuck Grassley, R-Iowa, told ABC News that there is \"no evidence\" that any criminal charges against anyone involved in the Hillary Clinton email scandal or that the issue can be settled in a way that doesn't involve any criminal charges.\n",
      "Biden is a liar, a liar. He is a big liar, a big liar. The only thing he is really wrong about is the Republicans and Democrats.\n",
      "We may know more about these \"war on terror\" than this guy.\n",
      "Biden is now leading the GOP efforts to block Trump's transgender ban, but the GOP is now calling for its members to fight this war as well.\n",
      "Biden is no doubt frustrated that Obama won't get a chance to explain how his administration's priorities work and his own personal priorities.\n",
      "Biden is no less a political opportunist than Hillary Clinton.\n",
      "Follow Jeff Poor on Twitter @jeff_poor\n",
      "Biden is no stranger to controversy as he has been accused of hypocrisy in his response to the crisis that followed the Iraq War. In recent weeks, a growing number of Americans have voiced concerns about his policies and have criticized him for wanting to expand the war and support terrorists around the globe.\n",
      "Biden is no longer an ally, but more of an antagonist who doesn't share his values, and will continue to seek to make himself an enemy.\n",
      "Biden is a big, big liar.\n",
      "Biden is no longer president.\n",
      "In the past few days, he has been forced to defend the death penalty against charges that it was unnecessary and illegal. He has been accused of saying he has a right to fight for the future of the state.\n",
      "Biden is leading an effort that's now poised to put a stop to this horrific massacre.\n",
      "Biden is a supporter of the Iraq War.\n",
      "Biden is making a big mistake, and it's just getting worse.\n",
      "Biden is going to keep attacking Hillary.\n",
      "Biden is one of the few senators to call the war on terror a \"false flag\" that was created to distract attention from the real problems plaguing our nation.\n",
      "Biden never cared how many people were getting hurt, he never cared how he could get things done. He cared about what was happening. He cared about what people were saying that he knew would be a disaster if he lost his job.\n",
      "Biden is a liar.\n",
      "Biden is more of a Democrat than a Republican. He thinks Obama is a liar and wants to kill him.\n",
      "Biden is no longer \"the man.\"\n",
      "Biden is one of many Democrats who say the administration's war on health care is a failure.\n",
      "\"Republicans will fight to make sure we don't have this health care disaster worse, better,\" said Sen. Chuck Grassley of Iowa.\n",
      "Biden is running, but no one else.\n",
      "\"So if we really want to stop the war, we have to fight in a world that's about peace and democracy.\"\n",
      "Biden is no joke and it will soon prove he is more than a bully.\n",
      "Biden is no longer on trial, though he is charged with four counts of attempted murder, aggravated battery of a police officer, failure to protect his officers and resisting arrest.\n",
      "Biden is currently facing accusations of lying to the FBI about his past.\n",
      "Biden is a Republican. And he's not a conservative. His party is not a liberal party, but a conservative party.\n",
      "Biden is a little worried.\n",
      "[{'neg': 0.384, 'neu': 0.616, 'pos': 0.0, 'compound': -0.92}, {'neg': 0.361, 'neu': 0.639, 'pos': 0.0, 'compound': -0.3089}, {'neg': 0.371, 'neu': 0.629, 'pos': 0.0, 'compound': -0.6483}, {'neg': 0.458, 'neu': 0.485, 'pos': 0.057, 'compound': -0.878}, {'neg': 0.364, 'neu': 0.636, 'pos': 0.0, 'compound': -0.9231}, {'neg': 0.315, 'neu': 0.685, 'pos': 0.0, 'compound': -0.7845}, {'neg': 0.368, 'neu': 0.632, 'pos': 0.0, 'compound': -0.3252}, {'neg': 0.336, 'neu': 0.557, 'pos': 0.107, 'compound': -0.9136}, {'neg': 0.35, 'neu': 0.65, 'pos': 0.0, 'compound': -0.8658}, {'neg': 0.437, 'neu': 0.563, 'pos': 0.0, 'compound': -0.9042}, {'neg': 0.355, 'neu': 0.645, 'pos': 0.0, 'compound': -0.6705}, {'neg': 0.426, 'neu': 0.574, 'pos': 0.0, 'compound': -0.836}, {'neg': 0.337, 'neu': 0.663, 'pos': 0.0, 'compound': -0.6808}, {'neg': 0.435, 'neu': 0.437, 'pos': 0.127, 'compound': -0.9765}, {'neg': 0.376, 'neu': 0.624, 'pos': 0.0, 'compound': -0.3412}, {'neg': 0.438, 'neu': 0.562, 'pos': 0.0, 'compound': -0.5994}, {'neg': 0.419, 'neu': 0.466, 'pos': 0.114, 'compound': -0.802}, {'neg': 0.422, 'neu': 0.417, 'pos': 0.162, 'compound': -0.9118}, {'neg': 0.303, 'neu': 0.573, 'pos': 0.124, 'compound': -0.5859}, {'neg': 0.452, 'neu': 0.548, 'pos': 0.0, 'compound': -0.5096}, {'neg': 0.459, 'neu': 0.541, 'pos': 0.0, 'compound': -0.5267}, {'neg': 0.317, 'neu': 0.502, 'pos': 0.181, 'compound': -0.8004}, {'neg': 0.305, 'neu': 0.61, 'pos': 0.085, 'compound': -0.7506}, {'neg': 0.397, 'neu': 0.603, 'pos': 0.0, 'compound': -0.8481}, {'neg': 0.307, 'neu': 0.693, 'pos': 0.0, 'compound': -0.4767}, {'neg': 0.435, 'neu': 0.519, 'pos': 0.046, 'compound': -0.9612}, {'neg': 0.302, 'neu': 0.698, 'pos': 0.0, 'compound': -0.5994}, {'neg': 0.346, 'neu': 0.654, 'pos': 0.0, 'compound': -0.7469}, {'neg': 0.303, 'neu': 0.697, 'pos': 0.0, 'compound': -0.93}, {'neg': 0.307, 'neu': 0.693, 'pos': 0.0, 'compound': -0.4767}, {'neg': 0.359, 'neu': 0.533, 'pos': 0.108, 'compound': -0.9587}, {'neg': 0.412, 'neu': 0.588, 'pos': 0.0, 'compound': -0.8689}, {'neg': 0.413, 'neu': 0.587, 'pos': 0.0, 'compound': -0.8465}, {'neg': 0.309, 'neu': 0.691, 'pos': 0.0, 'compound': -0.891}, {'neg': 0.302, 'neu': 0.698, 'pos': 0.0, 'compound': -0.6369}, {'neg': 0.375, 'neu': 0.625, 'pos': 0.0, 'compound': -0.8402}, {'neg': 0.356, 'neu': 0.644, 'pos': 0.0, 'compound': -0.9476}, {'neg': 0.383, 'neu': 0.617, 'pos': 0.0, 'compound': -0.4767}, {'neg': 0.333, 'neu': 0.667, 'pos': 0.0, 'compound': -0.6705}, {'neg': 0.463, 'neu': 0.49, 'pos': 0.047, 'compound': -0.9723}, {'neg': 0.358, 'neu': 0.599, 'pos': 0.044, 'compound': -0.9601}, {'neg': 0.306, 'neu': 0.694, 'pos': 0.0, 'compound': -0.296}, {'neg': 0.398, 'neu': 0.518, 'pos': 0.085, 'compound': -0.8248}, {'neg': 0.304, 'neu': 0.696, 'pos': 0.0, 'compound': -0.7184}, {'neg': 0.373, 'neu': 0.482, 'pos': 0.145, 'compound': -0.6908}, {'neg': 0.453, 'neu': 0.547, 'pos': 0.0, 'compound': -0.5116}, {'neg': 0.524, 'neu': 0.476, 'pos': 0.0, 'compound': -0.5106}, {'neg': 0.314, 'neu': 0.567, 'pos': 0.119, 'compound': -0.8074}, {'neg': 0.444, 'neu': 0.556, 'pos': 0.0, 'compound': -0.6124}, {'neg': 0.302, 'neu': 0.698, 'pos': 0.0, 'compound': -0.3818}, {'neg': 0.42, 'neu': 0.58, 'pos': 0.0, 'compound': -0.4404}, {'neg': 0.387, 'neu': 0.613, 'pos': 0.0, 'compound': -0.743}, {'neg': 0.368, 'neu': 0.545, 'pos': 0.087, 'compound': -0.85}, {'neg': 0.45, 'neu': 0.55, 'pos': 0.0, 'compound': -0.9201}, {'neg': 0.34, 'neu': 0.485, 'pos': 0.175, 'compound': -0.34}, {'neg': 0.306, 'neu': 0.578, 'pos': 0.116, 'compound': -0.765}, {'neg': 0.326, 'neu': 0.517, 'pos': 0.157, 'compound': -0.8801}, {'neg': 0.381, 'neu': 0.619, 'pos': 0.0, 'compound': -0.4717}, {'neg': 0.323, 'neu': 0.472, 'pos': 0.205, 'compound': -0.6124}, {'neg': 0.36, 'neu': 0.603, 'pos': 0.037, 'compound': -0.9485}, {'neg': 0.314, 'neu': 0.686, 'pos': 0.0, 'compound': -0.6705}, {'neg': 0.315, 'neu': 0.56, 'pos': 0.125, 'compound': -0.8158}, {'neg': 0.381, 'neu': 0.505, 'pos': 0.114, 'compound': -0.8105}, {'neg': 0.623, 'neu': 0.377, 'pos': 0.0, 'compound': -0.5106}, {'neg': 0.304, 'neu': 0.614, 'pos': 0.082, 'compound': -0.9427}, {'neg': 0.353, 'neu': 0.647, 'pos': 0.0, 'compound': -0.5994}, {'neg': 0.528, 'neu': 0.472, 'pos': 0.0, 'compound': -0.7717}, {'neg': 0.428, 'neu': 0.572, 'pos': 0.0, 'compound': -0.4585}, {'neg': 0.35, 'neu': 0.492, 'pos': 0.158, 'compound': -0.5423}, {'neg': 0.342, 'neu': 0.658, 'pos': 0.0, 'compound': -0.3818}, {'neg': 0.329, 'neu': 0.671, 'pos': 0.0, 'compound': -0.6602}, {'neg': 0.316, 'neu': 0.684, 'pos': 0.0, 'compound': -0.9413}, {'neg': 0.424, 'neu': 0.576, 'pos': 0.0, 'compound': -0.5688}, {'neg': 0.352, 'neu': 0.648, 'pos': 0.0, 'compound': -0.934}, {'neg': 0.488, 'neu': 0.512, 'pos': 0.0, 'compound': -0.9678}, {'neg': 0.34, 'neu': 0.581, 'pos': 0.078, 'compound': -0.8402}, {'neg': 0.308, 'neu': 0.692, 'pos': 0.0, 'compound': -0.5994}, {'neg': 0.467, 'neu': 0.533, 'pos': 0.0, 'compound': -0.5423}, {'neg': 0.423, 'neu': 0.577, 'pos': 0.0, 'compound': -0.296}, {'neg': 0.398, 'neu': 0.602, 'pos': 0.0, 'compound': -0.765}, {'neg': 0.312, 'neu': 0.688, 'pos': 0.0, 'compound': -0.6124}, {'neg': 0.455, 'neu': 0.545, 'pos': 0.0, 'compound': -0.3612}, {'neg': 0.383, 'neu': 0.495, 'pos': 0.122, 'compound': -0.7783}, {'neg': 0.355, 'neu': 0.645, 'pos': 0.0, 'compound': -0.296}, {'neg': 0.342, 'neu': 0.658, 'pos': 0.0, 'compound': -0.3818}, {'neg': 0.373, 'neu': 0.545, 'pos': 0.082, 'compound': -0.8381}, {'neg': 0.407, 'neu': 0.593, 'pos': 0.0, 'compound': -0.6705}, {'neg': 0.316, 'neu': 0.684, 'pos': 0.0, 'compound': -0.5719}, {'neg': 0.612, 'neu': 0.388, 'pos': 0.0, 'compound': -0.743}, {'neg': 0.435, 'neu': 0.465, 'pos': 0.1, 'compound': -0.8548}, {'neg': 0.323, 'neu': 0.677, 'pos': 0.0, 'compound': -0.6486}, {'neg': 0.87, 'neu': 0.13, 'pos': 0.0, 'compound': -0.9638}, {'neg': 0.368, 'neu': 0.632, 'pos': 0.0, 'compound': -0.5423}, {'neg': 0.302, 'neu': 0.698, 'pos': 0.0, 'compound': -0.3818}, {'neg': 0.482, 'neu': 0.263, 'pos': 0.254, 'compound': -0.3818}, {'neg': 0.358, 'neu': 0.508, 'pos': 0.134, 'compound': -0.8555}, {'neg': 0.309, 'neu': 0.636, 'pos': 0.055, 'compound': -0.8689}, {'neg': 0.456, 'neu': 0.308, 'pos': 0.236, 'compound': -0.4854}, {'neg': 0.316, 'neu': 0.684, 'pos': 0.0, 'compound': -0.7184}, {'neg': 0.358, 'neu': 0.642, 'pos': 0.0, 'compound': -0.5994}, {'neg': 0.387, 'neu': 0.613, 'pos': 0.0, 'compound': -0.8481}, {'neg': 0.684, 'neu': 0.316, 'pos': 0.0, 'compound': -0.7579}, {'neg': 0.367, 'neu': 0.633, 'pos': 0.0, 'compound': -0.4404}, {'neg': 0.343, 'neu': 0.657, 'pos': 0.0, 'compound': -0.5707}, {'neg': 0.358, 'neu': 0.539, 'pos': 0.103, 'compound': -0.7351}, {'neg': 0.37, 'neu': 0.63, 'pos': 0.0, 'compound': -0.8555}, {'neg': 0.375, 'neu': 0.625, 'pos': 0.0, 'compound': -0.7783}, {'neg': 0.355, 'neu': 0.645, 'pos': 0.0, 'compound': -0.296}, {'neg': 0.337, 'neu': 0.567, 'pos': 0.096, 'compound': -0.7783}, {'neg': 0.412, 'neu': 0.588, 'pos': 0.0, 'compound': -0.9403}, {'neg': 0.32, 'neu': 0.68, 'pos': 0.0, 'compound': -0.7906}, {'neg': 0.467, 'neu': 0.533, 'pos': 0.0, 'compound': -0.5423}, {'neg': 0.327, 'neu': 0.462, 'pos': 0.212, 'compound': -0.6124}, {'neg': 0.452, 'neu': 0.548, 'pos': 0.0, 'compound': -0.5106}, {'neg': 0.355, 'neu': 0.645, 'pos': 0.0, 'compound': -0.296}, {'neg': 0.331, 'neu': 0.669, 'pos': 0.0, 'compound': -0.7537}, {'neg': 0.381, 'neu': 0.619, 'pos': 0.0, 'compound': -0.8225}, {'neg': 0.406, 'neu': 0.506, 'pos': 0.088, 'compound': -0.969}, {'neg': 0.464, 'neu': 0.536, 'pos': 0.0, 'compound': -0.3818}, {'neg': 0.349, 'neu': 0.651, 'pos': 0.0, 'compound': -0.9246}, {'neg': 0.36, 'neu': 0.64, 'pos': 0.0, 'compound': -0.7351}, {'neg': 0.388, 'neu': 0.612, 'pos': 0.0, 'compound': -0.2263}, {'neg': 0.332, 'neu': 0.589, 'pos': 0.079, 'compound': -0.8936}, {'neg': 0.301, 'neu': 0.699, 'pos': 0.0, 'compound': -0.6794}, {'neg': 0.623, 'neu': 0.377, 'pos': 0.0, 'compound': -0.5106}, {'neg': 0.321, 'neu': 0.516, 'pos': 0.164, 'compound': -0.644}, {'neg': 0.483, 'neu': 0.517, 'pos': 0.0, 'compound': -0.6808}, {'neg': 0.31, 'neu': 0.69, 'pos': 0.0, 'compound': -0.7424}, {'neg': 0.382, 'neu': 0.463, 'pos': 0.155, 'compound': -0.9062}, {'neg': 0.623, 'neu': 0.377, 'pos': 0.0, 'compound': -0.5106}, {'neg': 0.326, 'neu': 0.674, 'pos': 0.0, 'compound': -0.8645}, {'neg': 0.434, 'neu': 0.566, 'pos': 0.0, 'compound': -0.3182}, {'neg': 0.316, 'neu': 0.684, 'pos': 0.0, 'compound': -0.7184}, {'neg': 0.623, 'neu': 0.377, 'pos': 0.0, 'compound': -0.5106}, {'neg': 0.388, 'neu': 0.612, 'pos': 0.0, 'compound': -0.2263}, {'neg': 0.376, 'neu': 0.557, 'pos': 0.066, 'compound': -0.836}, {'neg': 0.32, 'neu': 0.68, 'pos': 0.0, 'compound': -0.5106}, {'neg': 0.358, 'neu': 0.642, 'pos': 0.0, 'compound': -0.5994}, {'neg': 0.305, 'neu': 0.519, 'pos': 0.175, 'compound': -0.25}, {'neg': 0.315, 'neu': 0.685, 'pos': 0.0, 'compound': -0.9538}, {'neg': 0.363, 'neu': 0.637, 'pos': 0.0, 'compound': -0.8126}, {'neg': 0.32, 'neu': 0.68, 'pos': 0.0, 'compound': -0.5106}, {'neg': 0.383, 'neu': 0.617, 'pos': 0.0, 'compound': -0.4767}, {'neg': 0.329, 'neu': 0.671, 'pos': 0.0, 'compound': -0.7071}, {'neg': 0.311, 'neu': 0.689, 'pos': 0.0, 'compound': -0.7057}, {'neg': 0.338, 'neu': 0.662, 'pos': 0.0, 'compound': -0.3713}, {'neg': 0.382, 'neu': 0.618, 'pos': 0.0, 'compound': -0.3556}, {'neg': 0.421, 'neu': 0.579, 'pos': 0.0, 'compound': -0.9442}, {'neg': 0.358, 'neu': 0.642, 'pos': 0.0, 'compound': -0.5994}, {'neg': 0.324, 'neu': 0.532, 'pos': 0.144, 'compound': -0.5267}, {'neg': 0.303, 'neu': 0.697, 'pos': 0.0, 'compound': -0.7506}, {'neg': 0.331, 'neu': 0.451, 'pos': 0.218, 'compound': -0.128}, {'neg': 0.303, 'neu': 0.697, 'pos': 0.0, 'compound': -0.9337}, {'neg': 0.48, 'neu': 0.52, 'pos': 0.0, 'compound': -0.9485}, {'neg': 0.431, 'neu': 0.569, 'pos': 0.0, 'compound': -0.8207}, {'neg': 0.364, 'neu': 0.568, 'pos': 0.068, 'compound': -0.9088}, {'neg': 0.353, 'neu': 0.647, 'pos': 0.0, 'compound': -0.8334}, {'neg': 0.319, 'neu': 0.681, 'pos': 0.0, 'compound': -0.3134}, {'neg': 0.383, 'neu': 0.617, 'pos': 0.0, 'compound': -0.4767}, {'neg': 0.314, 'neu': 0.576, 'pos': 0.11, 'compound': -0.9509}, {'neg': 0.43, 'neu': 0.57, 'pos': 0.0, 'compound': -0.9414}, {'neg': 0.452, 'neu': 0.548, 'pos': 0.0, 'compound': -0.5106}, {'neg': 0.355, 'neu': 0.645, 'pos': 0.0, 'compound': -0.296}, {'neg': 0.389, 'neu': 0.611, 'pos': 0.0, 'compound': -0.9607}, {'neg': 0.32, 'neu': 0.583, 'pos': 0.097, 'compound': -0.6808}, {'neg': 0.355, 'neu': 0.455, 'pos': 0.191, 'compound': -0.4215}, {'neg': 0.407, 'neu': 0.593, 'pos': 0.0, 'compound': -0.6705}, {'neg': 0.333, 'neu': 0.667, 'pos': 0.0, 'compound': -0.4588}, {'neg': 0.328, 'neu': 0.618, 'pos': 0.054, 'compound': -0.8807}, {'neg': 0.353, 'neu': 0.647, 'pos': 0.0, 'compound': -0.9526}, {'neg': 0.623, 'neu': 0.377, 'pos': 0.0, 'compound': -0.5106}, {'neg': 0.348, 'neu': 0.652, 'pos': 0.0, 'compound': -0.8402}, {'neg': 0.306, 'neu': 0.694, 'pos': 0.0, 'compound': -0.296}, {'neg': 0.308, 'neu': 0.556, 'pos': 0.137, 'compound': -0.6124}, {'neg': 0.313, 'neu': 0.511, 'pos': 0.176, 'compound': -0.6486}, {'neg': 0.318, 'neu': 0.682, 'pos': 0.0, 'compound': -0.4215}, {'neg': 0.308, 'neu': 0.516, 'pos': 0.175, 'compound': -0.5955}, {'neg': 0.301, 'neu': 0.583, 'pos': 0.117, 'compound': -0.539}, {'neg': 0.413, 'neu': 0.525, 'pos': 0.062, 'compound': -0.9287}, {'neg': 0.341, 'neu': 0.659, 'pos': 0.0, 'compound': -0.6908}, {'neg': 0.321, 'neu': 0.679, 'pos': 0.0, 'compound': -0.6304}, {'neg': 0.389, 'neu': 0.611, 'pos': 0.0, 'compound': -0.228}]\n"
     ]
    }
   ]
  },
  {
   "cell_type": "code",
   "source": [
    "trump_data = []\n",
    "for sentiment in trump_scores:\n",
    "    trump_data.append(sentiment['compound'])\n",
    "\n",
    "bins = np.arange(-1, 1.1, 0.1)\n",
    "plt.hist(trump_data, bins=bins)\n",
    "\n",
    "plt.title(\"Sentiment Histogram\")\n",
    "plt.xlabel(\"Compound sentiment\")\n",
    "plt.ylabel(\"Frequency\")"
   ],
   "metadata": {
    "colab": {
     "base_uri": "https://localhost:8080/",
     "height": 489
    },
    "id": "ZtC_hbqPHq9l",
    "executionInfo": {
     "status": "ok",
     "timestamp": 1688326732284,
     "user_tz": 180,
     "elapsed": 3124,
     "user": {
      "displayName": "IGNACIO VAZQUEZ",
      "userId": "00044151811505805314"
     }
    },
    "outputId": "3f4088f4-89e0-453e-bbd7-cf5602b5d576"
   },
   "execution_count": 18,
   "outputs": [
    {
     "output_type": "execute_result",
     "data": {
      "text/plain": [
       "Text(0, 0.5, 'Frequency')"
      ]
     },
     "metadata": {},
     "execution_count": 18
    },
    {
     "output_type": "display_data",
     "data": {
      "text/plain": [
       "<Figure size 640x480 with 1 Axes>"
      ],
      "image/png": "[encoded data removed]"
     },
     "metadata": {}
    }
   ]
  },
  {
   "cell_type": "markdown",
   "source": [
    "### Biden tweets"
   ],
   "metadata": {
    "collapsed": false
   }
  },
  {
   "cell_type": "code",
   "execution_count": null,
   "outputs": [],
   "source": [
    "biden_sentiment_tweets = []\n",
    "\n",
    "for tweet in generated_biden_tweets:\n",
    "    biden_sentiment_tweets.append(tweet.splitlines())\n",
    "\n",
    "biden_sentiment_tweets = [item for sublist in biden_sentiment_tweets for item in sublist]\n",
    "\n",
    "sia = SentimentIntensityAnalyzer()\n",
    "\n",
    "biden_negative_tweets = []\n",
    "biden_scores = []\n",
    "for tweet in biden_sentiment_tweets:\n",
    "    sentiment_scores = sia.polarity_scores(tweet)\n",
    "    if sentiment_scores['neg'] > 0.3:\n",
    "        biden_scores.append(sentiment_scores)\n",
    "        biden_negative_tweets.append(tweet)"
   ],
   "metadata": {
    "collapsed": false
   }
  },
  {
   "cell_type": "code",
   "execution_count": null,
   "outputs": [],
   "source": [
    "biden_data = []\n",
    "for sentiment in biden_scores:\n",
    "    biden_data.append(sentiment['compound'])\n",
    "\n",
    "bins = np.arange(-1, 1.1, 0.1)\n",
    "plt.hist(biden_data, bins=bins)\n",
    "\n",
    "plt.title(\"Sentiment Histogram\")\n",
    "plt.xlabel(\"Compound sentiment\")\n",
    "plt.ylabel(\"Frequency\")"
   ],
   "metadata": {
    "collapsed": false
   }
  },
  {
   "cell_type": "markdown",
   "source": [
    "## Wordcloud Generation"
   ],
   "metadata": {
    "collapsed": false
   }
  },
  {
   "cell_type": "code",
   "execution_count": null,
   "outputs": [],
   "source": [
    "# Obtener lista de signos de puntuación\n",
    "punctuation = set(string.punctuation)\n",
    "stop_words = set(stopwords.words('english'))\n",
    "\n",
    "lemmatizer = WordNetLemmatizer()"
   ],
   "metadata": {
    "collapsed": false
   }
  },
  {
   "cell_type": "markdown",
   "source": [
    "### Trump tweets"
   ],
   "metadata": {
    "collapsed": false
   }
  },
  {
   "cell_type": "code",
   "source": [
    "preprocessed_tweets = [preprocess_and_lemmatize(tweet) for tweet in generated_trump_tweets]\n",
    "\n",
    "processed_tweets = ' '.join(preprocessed_tweets).strip()\n",
    "\n",
    "wordcloud = WordCloud(stopwords=stop_words).generate(processed_tweets)\n",
    "plt.imshow(wordcloud, interpolation='bilinear')\n",
    "plt.axis(\"off\")\n",
    "plt.show()"
   ],
   "metadata": {
    "colab": {
     "base_uri": "https://localhost:8080/",
     "height": 285
    },
    "id": "TfVdzeHx1_Tp",
    "executionInfo": {
     "status": "ok",
     "timestamp": 1688326705004,
     "user_tz": 180,
     "elapsed": 3122,
     "user": {
      "displayName": "IGNACIO VAZQUEZ",
      "userId": "00044151811505805314"
     }
    },
    "outputId": "96ed28eb-74f8-4d53-8282-6fe0a81dc7d7"
   },
   "execution_count": 16,
   "outputs": [
    {
     "output_type": "display_data",
     "data": {
      "text/plain": [
       "<Figure size 640x480 with 1 Axes>"
      ],
      "image/png": "[encoded data removed]"
     },
     "metadata": {}
    }
   ]
  },
  {
   "cell_type": "markdown",
   "source": [
    "### Biden tweets"
   ],
   "metadata": {
    "collapsed": false
   }
  },
  {
   "cell_type": "code",
   "execution_count": null,
   "outputs": [],
   "source": [
    "preprocessed_tweets = [preprocess_and_lemmatize(tweet) for tweet in generated_biden_tweets]\n",
    "\n",
    "processed_tweets = ' '.join(preprocessed_tweets).strip()\n",
    "\n",
    "wordcloud = WordCloud(stopwords=stop_words).generate(processed_tweets)\n",
    "plt.imshow(wordcloud, interpolation='bilinear')\n",
    "plt.axis(\"off\")\n",
    "plt.show()"
   ],
   "metadata": {
    "collapsed": false
   }
  }
 ],
 "metadata": {
  "accelerator": "GPU",
  "colab": {
   "gpuType": "T4",
   "provenance": []
  },
  "kernelspec": {
   "display_name": "Python 3",
   "name": "python3"
  },
  "language_info": {
   "name": "python"
  },
  "widgets": {
   "application/vnd.jupyter.widget-state+json": {
    "b134f0a67bd649a681c9315f261767c0": {
     "model_module": "@jupyter-widgets/controls",
     "model_name": "HBoxModel",
     "model_module_version": "1.5.0",
     "state": {
      "_dom_classes": [],
      "_model_module": "@jupyter-widgets/controls",
      "_model_module_version": "1.5.0",
      "_model_name": "HBoxModel",
      "_view_count": null,
      "_view_module": "@jupyter-widgets/controls",
      "_view_module_version": "1.5.0",
      "_view_name": "HBoxView",
      "box_style": "",
      "children": [
       "IPY_MODEL_ab9990dac9594a9b8228df46f9576805",
       "IPY_MODEL_095f8f0d730f49f39bbcf7c7d799c646",
       "IPY_MODEL_0709343fae2e4a37965e2c7c16623756"
      ],
      "layout": "IPY_MODEL_2222b5e50380457482706e46b47563f0"
     }
    },
    "ab9990dac9594a9b8228df46f9576805": {
     "model_module": "@jupyter-widgets/controls",
     "model_name": "HTMLModel",
     "model_module_version": "1.5.0",
     "state": {
      "_dom_classes": [],
      "_model_module": "@jupyter-widgets/controls",
      "_model_module_version": "1.5.0",
      "_model_name": "HTMLModel",
      "_view_count": null,
      "_view_module": "@jupyter-widgets/controls",
      "_view_module_version": "1.5.0",
      "_view_name": "HTMLView",
      "description": "",
      "description_tooltip": null,
      "layout": "IPY_MODEL_b79d95077a7240d0bae30c53c99915ea",
      "placeholder": "​",
      "style": "IPY_MODEL_4e3718e092d94e6f8bf253453792764b",
      "value": "Downloading (…)olve/main/vocab.json: 100%"
     }
    },
    "095f8f0d730f49f39bbcf7c7d799c646": {
     "model_module": "@jupyter-widgets/controls",
     "model_name": "FloatProgressModel",
     "model_module_version": "1.5.0",
     "state": {
      "_dom_classes": [],
      "_model_module": "@jupyter-widgets/controls",
      "_model_module_version": "1.5.0",
      "_model_name": "FloatProgressModel",
      "_view_count": null,
      "_view_module": "@jupyter-widgets/controls",
      "_view_module_version": "1.5.0",
      "_view_name": "ProgressView",
      "bar_style": "success",
      "description": "",
      "description_tooltip": null,
      "layout": "IPY_MODEL_8037d797392c4f50a62e7ef4c04ce26a",
      "max": 1042301,
      "min": 0,
      "orientation": "horizontal",
      "style": "IPY_MODEL_a9dab873d5174f6fba139c2d025a42f7",
      "value": 1042301
     }
    },
    "0709343fae2e4a37965e2c7c16623756": {
     "model_module": "@jupyter-widgets/controls",
     "model_name": "HTMLModel",
     "model_module_version": "1.5.0",
     "state": {
      "_dom_classes": [],
      "_model_module": "@jupyter-widgets/controls",
      "_model_module_version": "1.5.0",
      "_model_name": "HTMLModel",
      "_view_count": null,
      "_view_module": "@jupyter-widgets/controls",
      "_view_module_version": "1.5.0",
      "_view_name": "HTMLView",
      "description": "",
      "description_tooltip": null,
      "layout": "IPY_MODEL_19fde21f79a140f5b93b358a037bc42f",
      "placeholder": "​",
      "style": "IPY_MODEL_e68959733fcf471081c4318c049eb9e9",
      "value": " 1.04M/1.04M [00:00&lt;00:00, 1.55MB/s]"
     }
    },
    "2222b5e50380457482706e46b47563f0": {
     "model_module": "@jupyter-widgets/base",
     "model_name": "LayoutModel",
     "model_module_version": "1.2.0",
     "state": {
      "_model_module": "@jupyter-widgets/base",
      "_model_module_version": "1.2.0",
      "_model_name": "LayoutModel",
      "_view_count": null,
      "_view_module": "@jupyter-widgets/base",
      "_view_module_version": "1.2.0",
      "_view_name": "LayoutView",
      "align_content": null,
      "align_items": null,
      "align_self": null,
      "border": null,
      "bottom": null,
      "display": null,
      "flex": null,
      "flex_flow": null,
      "grid_area": null,
      "grid_auto_columns": null,
      "grid_auto_flow": null,
      "grid_auto_rows": null,
      "grid_column": null,
      "grid_gap": null,
      "grid_row": null,
      "grid_template_areas": null,
      "grid_template_columns": null,
      "grid_template_rows": null,
      "height": null,
      "justify_content": null,
      "justify_items": null,
      "left": null,
      "margin": null,
      "max_height": null,
      "max_width": null,
      "min_height": null,
      "min_width": null,
      "object_fit": null,
      "object_position": null,
      "order": null,
      "overflow": null,
      "overflow_x": null,
      "overflow_y": null,
      "padding": null,
      "right": null,
      "top": null,
      "visibility": null,
      "width": null
     }
    },
    "b79d95077a7240d0bae30c53c99915ea": {
     "model_module": "@jupyter-widgets/base",
     "model_name": "LayoutModel",
     "model_module_version": "1.2.0",
     "state": {
      "_model_module": "@jupyter-widgets/base",
      "_model_module_version": "1.2.0",
      "_model_name": "LayoutModel",
      "_view_count": null,
      "_view_module": "@jupyter-widgets/base",
      "_view_module_version": "1.2.0",
      "_view_name": "LayoutView",
      "align_content": null,
      "align_items": null,
      "align_self": null,
      "border": null,
      "bottom": null,
      "display": null,
      "flex": null,
      "flex_flow": null,
      "grid_area": null,
      "grid_auto_columns": null,
      "grid_auto_flow": null,
      "grid_auto_rows": null,
      "grid_column": null,
      "grid_gap": null,
      "grid_row": null,
      "grid_template_areas": null,
      "grid_template_columns": null,
      "grid_template_rows": null,
      "height": null,
      "justify_content": null,
      "justify_items": null,
      "left": null,
      "margin": null,
      "max_height": null,
      "max_width": null,
      "min_height": null,
      "min_width": null,
      "object_fit": null,
      "object_position": null,
      "order": null,
      "overflow": null,
      "overflow_x": null,
      "overflow_y": null,
      "padding": null,
      "right": null,
      "top": null,
      "visibility": null,
      "width": null
     }
    },
    "4e3718e092d94e6f8bf253453792764b": {
     "model_module": "@jupyter-widgets/controls",
     "model_name": "DescriptionStyleModel",
     "model_module_version": "1.5.0",
     "state": {
      "_model_module": "@jupyter-widgets/controls",
      "_model_module_version": "1.5.0",
      "_model_name": "DescriptionStyleModel",
      "_view_count": null,
      "_view_module": "@jupyter-widgets/base",
      "_view_module_version": "1.2.0",
      "_view_name": "StyleView",
      "description_width": ""
     }
    },
    "8037d797392c4f50a62e7ef4c04ce26a": {
     "model_module": "@jupyter-widgets/base",
     "model_name": "LayoutModel",
     "model_module_version": "1.2.0",
     "state": {
      "_model_module": "@jupyter-widgets/base",
      "_model_module_version": "1.2.0",
      "_model_name": "LayoutModel",
      "_view_count": null,
      "_view_module": "@jupyter-widgets/base",
      "_view_module_version": "1.2.0",
      "_view_name": "LayoutView",
      "align_content": null,
      "align_items": null,
      "align_self": null,
      "border": null,
      "bottom": null,
      "display": null,
      "flex": null,
      "flex_flow": null,
      "grid_area": null,
      "grid_auto_columns": null,
      "grid_auto_flow": null,
      "grid_auto_rows": null,
      "grid_column": null,
      "grid_gap": null,
      "grid_row": null,
      "grid_template_areas": null,
      "grid_template_columns": null,
      "grid_template_rows": null,
      "height": null,
      "justify_content": null,
      "justify_items": null,
      "left": null,
      "margin": null,
      "max_height": null,
      "max_width": null,
      "min_height": null,
      "min_width": null,
      "object_fit": null,
      "object_position": null,
      "order": null,
      "overflow": null,
      "overflow_x": null,
      "overflow_y": null,
      "padding": null,
      "right": null,
      "top": null,
      "visibility": null,
      "width": null
     }
    },
    "a9dab873d5174f6fba139c2d025a42f7": {
     "model_module": "@jupyter-widgets/controls",
     "model_name": "ProgressStyleModel",
     "model_module_version": "1.5.0",
     "state": {
      "_model_module": "@jupyter-widgets/controls",
      "_model_module_version": "1.5.0",
      "_model_name": "ProgressStyleModel",
      "_view_count": null,
      "_view_module": "@jupyter-widgets/base",
      "_view_module_version": "1.2.0",
      "_view_name": "StyleView",
      "bar_color": null,
      "description_width": ""
     }
    },
    "19fde21f79a140f5b93b358a037bc42f": {
     "model_module": "@jupyter-widgets/base",
     "model_name": "LayoutModel",
     "model_module_version": "1.2.0",
     "state": {
      "_model_module": "@jupyter-widgets/base",
      "_model_module_version": "1.2.0",
      "_model_name": "LayoutModel",
      "_view_count": null,
      "_view_module": "@jupyter-widgets/base",
      "_view_module_version": "1.2.0",
      "_view_name": "LayoutView",
      "align_content": null,
      "align_items": null,
      "align_self": null,
      "border": null,
      "bottom": null,
      "display": null,
      "flex": null,
      "flex_flow": null,
      "grid_area": null,
      "grid_auto_columns": null,
      "grid_auto_flow": null,
      "grid_auto_rows": null,
      "grid_column": null,
      "grid_gap": null,
      "grid_row": null,
      "grid_template_areas": null,
      "grid_template_columns": null,
      "grid_template_rows": null,
      "height": null,
      "justify_content": null,
      "justify_items": null,
      "left": null,
      "margin": null,
      "max_height": null,
      "max_width": null,
      "min_height": null,
      "min_width": null,
      "object_fit": null,
      "object_position": null,
      "order": null,
      "overflow": null,
      "overflow_x": null,
      "overflow_y": null,
      "padding": null,
      "right": null,
      "top": null,
      "visibility": null,
      "width": null
     }
    },
    "e68959733fcf471081c4318c049eb9e9": {
     "model_module": "@jupyter-widgets/controls",
     "model_name": "DescriptionStyleModel",
     "model_module_version": "1.5.0",
     "state": {
      "_model_module": "@jupyter-widgets/controls",
      "_model_module_version": "1.5.0",
      "_model_name": "DescriptionStyleModel",
      "_view_count": null,
      "_view_module": "@jupyter-widgets/base",
      "_view_module_version": "1.2.0",
      "_view_name": "StyleView",
      "description_width": ""
     }
    },
    "1400078899e349bab98e8a3cc20993e3": {
     "model_module": "@jupyter-widgets/controls",
     "model_name": "HBoxModel",
     "model_module_version": "1.5.0",
     "state": {
      "_dom_classes": [],
      "_model_module": "@jupyter-widgets/controls",
      "_model_module_version": "1.5.0",
      "_model_name": "HBoxModel",
      "_view_count": null,
      "_view_module": "@jupyter-widgets/controls",
      "_view_module_version": "1.5.0",
      "_view_name": "HBoxView",
      "box_style": "",
      "children": [
       "IPY_MODEL_d88c26e263304fbbb28e6536014836df",
       "IPY_MODEL_3ce51bde68e14d3bb4cbf8a7381710b9",
       "IPY_MODEL_b997f0a644c94adb996f600a0c971a54"
      ],
      "layout": "IPY_MODEL_6ff0f22c109745ba88ad8918371f037e"
     }
    },
    "d88c26e263304fbbb28e6536014836df": {
     "model_module": "@jupyter-widgets/controls",
     "model_name": "HTMLModel",
     "model_module_version": "1.5.0",
     "state": {
      "_dom_classes": [],
      "_model_module": "@jupyter-widgets/controls",
      "_model_module_version": "1.5.0",
      "_model_name": "HTMLModel",
      "_view_count": null,
      "_view_module": "@jupyter-widgets/controls",
      "_view_module_version": "1.5.0",
      "_view_name": "HTMLView",
      "description": "",
      "description_tooltip": null,
      "layout": "IPY_MODEL_9bfe269b9f764d8087b7a6e6fafad026",
      "placeholder": "​",
      "style": "IPY_MODEL_e2ec01d6f93d426e928859e886018c3a",
      "value": "Downloading (…)olve/main/merges.txt: 100%"
     }
    },
    "3ce51bde68e14d3bb4cbf8a7381710b9": {
     "model_module": "@jupyter-widgets/controls",
     "model_name": "FloatProgressModel",
     "model_module_version": "1.5.0",
     "state": {
      "_dom_classes": [],
      "_model_module": "@jupyter-widgets/controls",
      "_model_module_version": "1.5.0",
      "_model_name": "FloatProgressModel",
      "_view_count": null,
      "_view_module": "@jupyter-widgets/controls",
      "_view_module_version": "1.5.0",
      "_view_name": "ProgressView",
      "bar_style": "success",
      "description": "",
      "description_tooltip": null,
      "layout": "IPY_MODEL_766531f1328844d2bf83b21fb25e7748",
      "max": 456318,
      "min": 0,
      "orientation": "horizontal",
      "style": "IPY_MODEL_02995bd1265b40fc831f3ebafabe2981",
      "value": 456318
     }
    },
    "b997f0a644c94adb996f600a0c971a54": {
     "model_module": "@jupyter-widgets/controls",
     "model_name": "HTMLModel",
     "model_module_version": "1.5.0",
     "state": {
      "_dom_classes": [],
      "_model_module": "@jupyter-widgets/controls",
      "_model_module_version": "1.5.0",
      "_model_name": "HTMLModel",
      "_view_count": null,
      "_view_module": "@jupyter-widgets/controls",
      "_view_module_version": "1.5.0",
      "_view_name": "HTMLView",
      "description": "",
      "description_tooltip": null,
      "layout": "IPY_MODEL_5402886f97ab4d9ba69b4144ed79513d",
      "placeholder": "​",
      "style": "IPY_MODEL_c7ea2b66ef8f4a969a9296dada2e4a63",
      "value": " 456k/456k [00:00&lt;00:00, 26.4MB/s]"
     }
    },
    "6ff0f22c109745ba88ad8918371f037e": {
     "model_module": "@jupyter-widgets/base",
     "model_name": "LayoutModel",
     "model_module_version": "1.2.0",
     "state": {
      "_model_module": "@jupyter-widgets/base",
      "_model_module_version": "1.2.0",
      "_model_name": "LayoutModel",
      "_view_count": null,
      "_view_module": "@jupyter-widgets/base",
      "_view_module_version": "1.2.0",
      "_view_name": "LayoutView",
      "align_content": null,
      "align_items": null,
      "align_self": null,
      "border": null,
      "bottom": null,
      "display": null,
      "flex": null,
      "flex_flow": null,
      "grid_area": null,
      "grid_auto_columns": null,
      "grid_auto_flow": null,
      "grid_auto_rows": null,
      "grid_column": null,
      "grid_gap": null,
      "grid_row": null,
      "grid_template_areas": null,
      "grid_template_columns": null,
      "grid_template_rows": null,
      "height": null,
      "justify_content": null,
      "justify_items": null,
      "left": null,
      "margin": null,
      "max_height": null,
      "max_width": null,
      "min_height": null,
      "min_width": null,
      "object_fit": null,
      "object_position": null,
      "order": null,
      "overflow": null,
      "overflow_x": null,
      "overflow_y": null,
      "padding": null,
      "right": null,
      "top": null,
      "visibility": null,
      "width": null
     }
    },
    "9bfe269b9f764d8087b7a6e6fafad026": {
     "model_module": "@jupyter-widgets/base",
     "model_name": "LayoutModel",
     "model_module_version": "1.2.0",
     "state": {
      "_model_module": "@jupyter-widgets/base",
      "_model_module_version": "1.2.0",
      "_model_name": "LayoutModel",
      "_view_count": null,
      "_view_module": "@jupyter-widgets/base",
      "_view_module_version": "1.2.0",
      "_view_name": "LayoutView",
      "align_content": null,
      "align_items": null,
      "align_self": null,
      "border": null,
      "bottom": null,
      "display": null,
      "flex": null,
      "flex_flow": null,
      "grid_area": null,
      "grid_auto_columns": null,
      "grid_auto_flow": null,
      "grid_auto_rows": null,
      "grid_column": null,
      "grid_gap": null,
      "grid_row": null,
      "grid_template_areas": null,
      "grid_template_columns": null,
      "grid_template_rows": null,
      "height": null,
      "justify_content": null,
      "justify_items": null,
      "left": null,
      "margin": null,
      "max_height": null,
      "max_width": null,
      "min_height": null,
      "min_width": null,
      "object_fit": null,
      "object_position": null,
      "order": null,
      "overflow": null,
      "overflow_x": null,
      "overflow_y": null,
      "padding": null,
      "right": null,
      "top": null,
      "visibility": null,
      "width": null
     }
    },
    "e2ec01d6f93d426e928859e886018c3a": {
     "model_module": "@jupyter-widgets/controls",
     "model_name": "DescriptionStyleModel",
     "model_module_version": "1.5.0",
     "state": {
      "_model_module": "@jupyter-widgets/controls",
      "_model_module_version": "1.5.0",
      "_model_name": "DescriptionStyleModel",
      "_view_count": null,
      "_view_module": "@jupyter-widgets/base",
      "_view_module_version": "1.2.0",
      "_view_name": "StyleView",
      "description_width": ""
     }
    },
    "766531f1328844d2bf83b21fb25e7748": {
     "model_module": "@jupyter-widgets/base",
     "model_name": "LayoutModel",
     "model_module_version": "1.2.0",
     "state": {
      "_model_module": "@jupyter-widgets/base",
      "_model_module_version": "1.2.0",
      "_model_name": "LayoutModel",
      "_view_count": null,
      "_view_module": "@jupyter-widgets/base",
      "_view_module_version": "1.2.0",
      "_view_name": "LayoutView",
      "align_content": null,
      "align_items": null,
      "align_self": null,
      "border": null,
      "bottom": null,
      "display": null,
      "flex": null,
      "flex_flow": null,
      "grid_area": null,
      "grid_auto_columns": null,
      "grid_auto_flow": null,
      "grid_auto_rows": null,
      "grid_column": null,
      "grid_gap": null,
      "grid_row": null,
      "grid_template_areas": null,
      "grid_template_columns": null,
      "grid_template_rows": null,
      "height": null,
      "justify_content": null,
      "justify_items": null,
      "left": null,
      "margin": null,
      "max_height": null,
      "max_width": null,
      "min_height": null,
      "min_width": null,
      "object_fit": null,
      "object_position": null,
      "order": null,
      "overflow": null,
      "overflow_x": null,
      "overflow_y": null,
      "padding": null,
      "right": null,
      "top": null,
      "visibility": null,
      "width": null
     }
    },
    "02995bd1265b40fc831f3ebafabe2981": {
     "model_module": "@jupyter-widgets/controls",
     "model_name": "ProgressStyleModel",
     "model_module_version": "1.5.0",
     "state": {
      "_model_module": "@jupyter-widgets/controls",
      "_model_module_version": "1.5.0",
      "_model_name": "ProgressStyleModel",
      "_view_count": null,
      "_view_module": "@jupyter-widgets/base",
      "_view_module_version": "1.2.0",
      "_view_name": "StyleView",
      "bar_color": null,
      "description_width": ""
     }
    },
    "5402886f97ab4d9ba69b4144ed79513d": {
     "model_module": "@jupyter-widgets/base",
     "model_name": "LayoutModel",
     "model_module_version": "1.2.0",
     "state": {
      "_model_module": "@jupyter-widgets/base",
      "_model_module_version": "1.2.0",
      "_model_name": "LayoutModel",
      "_view_count": null,
      "_view_module": "@jupyter-widgets/base",
      "_view_module_version": "1.2.0",
      "_view_name": "LayoutView",
      "align_content": null,
      "align_items": null,
      "align_self": null,
      "border": null,
      "bottom": null,
      "display": null,
      "flex": null,
      "flex_flow": null,
      "grid_area": null,
      "grid_auto_columns": null,
      "grid_auto_flow": null,
      "grid_auto_rows": null,
      "grid_column": null,
      "grid_gap": null,
      "grid_row": null,
      "grid_template_areas": null,
      "grid_template_columns": null,
      "grid_template_rows": null,
      "height": null,
      "justify_content": null,
      "justify_items": null,
      "left": null,
      "margin": null,
      "max_height": null,
      "max_width": null,
      "min_height": null,
      "min_width": null,
      "object_fit": null,
      "object_position": null,
      "order": null,
      "overflow": null,
      "overflow_x": null,
      "overflow_y": null,
      "padding": null,
      "right": null,
      "top": null,
      "visibility": null,
      "width": null
     }
    },
    "c7ea2b66ef8f4a969a9296dada2e4a63": {
     "model_module": "@jupyter-widgets/controls",
     "model_name": "DescriptionStyleModel",
     "model_module_version": "1.5.0",
     "state": {
      "_model_module": "@jupyter-widgets/controls",
      "_model_module_version": "1.5.0",
      "_model_name": "DescriptionStyleModel",
      "_view_count": null,
      "_view_module": "@jupyter-widgets/base",
      "_view_module_version": "1.2.0",
      "_view_name": "StyleView",
      "description_width": ""
     }
    },
    "ffc24b2ad25a488bbadf191867967584": {
     "model_module": "@jupyter-widgets/controls",
     "model_name": "HBoxModel",
     "model_module_version": "1.5.0",
     "state": {
      "_dom_classes": [],
      "_model_module": "@jupyter-widgets/controls",
      "_model_module_version": "1.5.0",
      "_model_name": "HBoxModel",
      "_view_count": null,
      "_view_module": "@jupyter-widgets/controls",
      "_view_module_version": "1.5.0",
      "_view_name": "HBoxView",
      "box_style": "",
      "children": [
       "IPY_MODEL_2c47dc5864544bdbb1541220e9a12788",
       "IPY_MODEL_15d421b6b3184dc7b9f3d95c7be20dee",
       "IPY_MODEL_1f17dd675a1e4fb9a5ba289a2890cb08"
      ],
      "layout": "IPY_MODEL_17dc411e3ea4400182e3470bd55037d1"
     }
    },
    "2c47dc5864544bdbb1541220e9a12788": {
     "model_module": "@jupyter-widgets/controls",
     "model_name": "HTMLModel",
     "model_module_version": "1.5.0",
     "state": {
      "_dom_classes": [],
      "_model_module": "@jupyter-widgets/controls",
      "_model_module_version": "1.5.0",
      "_model_name": "HTMLModel",
      "_view_count": null,
      "_view_module": "@jupyter-widgets/controls",
      "_view_module_version": "1.5.0",
      "_view_name": "HTMLView",
      "description": "",
      "description_tooltip": null,
      "layout": "IPY_MODEL_ec5fda7e3a3c464a90f833809b27043a",
      "placeholder": "​",
      "style": "IPY_MODEL_c6e323176ed046f7aabe8971d12d339d",
      "value": "Downloading (…)lve/main/config.json: 100%"
     }
    },
    "15d421b6b3184dc7b9f3d95c7be20dee": {
     "model_module": "@jupyter-widgets/controls",
     "model_name": "FloatProgressModel",
     "model_module_version": "1.5.0",
     "state": {
      "_dom_classes": [],
      "_model_module": "@jupyter-widgets/controls",
      "_model_module_version": "1.5.0",
      "_model_name": "FloatProgressModel",
      "_view_count": null,
      "_view_module": "@jupyter-widgets/controls",
      "_view_module_version": "1.5.0",
      "_view_name": "ProgressView",
      "bar_style": "success",
      "description": "",
      "description_tooltip": null,
      "layout": "IPY_MODEL_1f6ef9f2cb23469bb8073ce2645d520e",
      "max": 665,
      "min": 0,
      "orientation": "horizontal",
      "style": "IPY_MODEL_c033380834a6469b89297b1b19347c99",
      "value": 665
     }
    },
    "1f17dd675a1e4fb9a5ba289a2890cb08": {
     "model_module": "@jupyter-widgets/controls",
     "model_name": "HTMLModel",
     "model_module_version": "1.5.0",
     "state": {
      "_dom_classes": [],
      "_model_module": "@jupyter-widgets/controls",
      "_model_module_version": "1.5.0",
      "_model_name": "HTMLModel",
      "_view_count": null,
      "_view_module": "@jupyter-widgets/controls",
      "_view_module_version": "1.5.0",
      "_view_name": "HTMLView",
      "description": "",
      "description_tooltip": null,
      "layout": "IPY_MODEL_9b24191002ab4db49f8964158a884552",
      "placeholder": "​",
      "style": "IPY_MODEL_4198ec4f99ea4383b2bbe2e70846928b",
      "value": " 665/665 [00:00&lt;00:00, 38.6kB/s]"
     }
    },
    "17dc411e3ea4400182e3470bd55037d1": {
     "model_module": "@jupyter-widgets/base",
     "model_name": "LayoutModel",
     "model_module_version": "1.2.0",
     "state": {
      "_model_module": "@jupyter-widgets/base",
      "_model_module_version": "1.2.0",
      "_model_name": "LayoutModel",
      "_view_count": null,
      "_view_module": "@jupyter-widgets/base",
      "_view_module_version": "1.2.0",
      "_view_name": "LayoutView",
      "align_content": null,
      "align_items": null,
      "align_self": null,
      "border": null,
      "bottom": null,
      "display": null,
      "flex": null,
      "flex_flow": null,
      "grid_area": null,
      "grid_auto_columns": null,
      "grid_auto_flow": null,
      "grid_auto_rows": null,
      "grid_column": null,
      "grid_gap": null,
      "grid_row": null,
      "grid_template_areas": null,
      "grid_template_columns": null,
      "grid_template_rows": null,
      "height": null,
      "justify_content": null,
      "justify_items": null,
      "left": null,
      "margin": null,
      "max_height": null,
      "max_width": null,
      "min_height": null,
      "min_width": null,
      "object_fit": null,
      "object_position": null,
      "order": null,
      "overflow": null,
      "overflow_x": null,
      "overflow_y": null,
      "padding": null,
      "right": null,
      "top": null,
      "visibility": null,
      "width": null
     }
    },
    "ec5fda7e3a3c464a90f833809b27043a": {
     "model_module": "@jupyter-widgets/base",
     "model_name": "LayoutModel",
     "model_module_version": "1.2.0",
     "state": {
      "_model_module": "@jupyter-widgets/base",
      "_model_module_version": "1.2.0",
      "_model_name": "LayoutModel",
      "_view_count": null,
      "_view_module": "@jupyter-widgets/base",
      "_view_module_version": "1.2.0",
      "_view_name": "LayoutView",
      "align_content": null,
      "align_items": null,
      "align_self": null,
      "border": null,
      "bottom": null,
      "display": null,
      "flex": null,
      "flex_flow": null,
      "grid_area": null,
      "grid_auto_columns": null,
      "grid_auto_flow": null,
      "grid_auto_rows": null,
      "grid_column": null,
      "grid_gap": null,
      "grid_row": null,
      "grid_template_areas": null,
      "grid_template_columns": null,
      "grid_template_rows": null,
      "height": null,
      "justify_content": null,
      "justify_items": null,
      "left": null,
      "margin": null,
      "max_height": null,
      "max_width": null,
      "min_height": null,
      "min_width": null,
      "object_fit": null,
      "object_position": null,
      "order": null,
      "overflow": null,
      "overflow_x": null,
      "overflow_y": null,
      "padding": null,
      "right": null,
      "top": null,
      "visibility": null,
      "width": null
     }
    },
    "c6e323176ed046f7aabe8971d12d339d": {
     "model_module": "@jupyter-widgets/controls",
     "model_name": "DescriptionStyleModel",
     "model_module_version": "1.5.0",
     "state": {
      "_model_module": "@jupyter-widgets/controls",
      "_model_module_version": "1.5.0",
      "_model_name": "DescriptionStyleModel",
      "_view_count": null,
      "_view_module": "@jupyter-widgets/base",
      "_view_module_version": "1.2.0",
      "_view_name": "StyleView",
      "description_width": ""
     }
    },
    "1f6ef9f2cb23469bb8073ce2645d520e": {
     "model_module": "@jupyter-widgets/base",
     "model_name": "LayoutModel",
     "model_module_version": "1.2.0",
     "state": {
      "_model_module": "@jupyter-widgets/base",
      "_model_module_version": "1.2.0",
      "_model_name": "LayoutModel",
      "_view_count": null,
      "_view_module": "@jupyter-widgets/base",
      "_view_module_version": "1.2.0",
      "_view_name": "LayoutView",
      "align_content": null,
      "align_items": null,
      "align_self": null,
      "border": null,
      "bottom": null,
      "display": null,
      "flex": null,
      "flex_flow": null,
      "grid_area": null,
      "grid_auto_columns": null,
      "grid_auto_flow": null,
      "grid_auto_rows": null,
      "grid_column": null,
      "grid_gap": null,
      "grid_row": null,
      "grid_template_areas": null,
      "grid_template_columns": null,
      "grid_template_rows": null,
      "height": null,
      "justify_content": null,
      "justify_items": null,
      "left": null,
      "margin": null,
      "max_height": null,
      "max_width": null,
      "min_height": null,
      "min_width": null,
      "object_fit": null,
      "object_position": null,
      "order": null,
      "overflow": null,
      "overflow_x": null,
      "overflow_y": null,
      "padding": null,
      "right": null,
      "top": null,
      "visibility": null,
      "width": null
     }
    },
    "c033380834a6469b89297b1b19347c99": {
     "model_module": "@jupyter-widgets/controls",
     "model_name": "ProgressStyleModel",
     "model_module_version": "1.5.0",
     "state": {
      "_model_module": "@jupyter-widgets/controls",
      "_model_module_version": "1.5.0",
      "_model_name": "ProgressStyleModel",
      "_view_count": null,
      "_view_module": "@jupyter-widgets/base",
      "_view_module_version": "1.2.0",
      "_view_name": "StyleView",
      "bar_color": null,
      "description_width": ""
     }
    },
    "9b24191002ab4db49f8964158a884552": {
     "model_module": "@jupyter-widgets/base",
     "model_name": "LayoutModel",
     "model_module_version": "1.2.0",
     "state": {
      "_model_module": "@jupyter-widgets/base",
      "_model_module_version": "1.2.0",
      "_model_name": "LayoutModel",
      "_view_count": null,
      "_view_module": "@jupyter-widgets/base",
      "_view_module_version": "1.2.0",
      "_view_name": "LayoutView",
      "align_content": null,
      "align_items": null,
      "align_self": null,
      "border": null,
      "bottom": null,
      "display": null,
      "flex": null,
      "flex_flow": null,
      "grid_area": null,
      "grid_auto_columns": null,
      "grid_auto_flow": null,
      "grid_auto_rows": null,
      "grid_column": null,
      "grid_gap": null,
      "grid_row": null,
      "grid_template_areas": null,
      "grid_template_columns": null,
      "grid_template_rows": null,
      "height": null,
      "justify_content": null,
      "justify_items": null,
      "left": null,
      "margin": null,
      "max_height": null,
      "max_width": null,
      "min_height": null,
      "min_width": null,
      "object_fit": null,
      "object_position": null,
      "order": null,
      "overflow": null,
      "overflow_x": null,
      "overflow_y": null,
      "padding": null,
      "right": null,
      "top": null,
      "visibility": null,
      "width": null
     }
    },
    "4198ec4f99ea4383b2bbe2e70846928b": {
     "model_module": "@jupyter-widgets/controls",
     "model_name": "DescriptionStyleModel",
     "model_module_version": "1.5.0",
     "state": {
      "_model_module": "@jupyter-widgets/controls",
      "_model_module_version": "1.5.0",
      "_model_name": "DescriptionStyleModel",
      "_view_count": null,
      "_view_module": "@jupyter-widgets/base",
      "_view_module_version": "1.2.0",
      "_view_name": "StyleView",
      "description_width": ""
     }
    },
    "2a6a6f1b5b6a4445aae308f7a80c92a9": {
     "model_module": "@jupyter-widgets/controls",
     "model_name": "HBoxModel",
     "model_module_version": "1.5.0",
     "state": {
      "_dom_classes": [],
      "_model_module": "@jupyter-widgets/controls",
      "_model_module_version": "1.5.0",
      "_model_name": "HBoxModel",
      "_view_count": null,
      "_view_module": "@jupyter-widgets/controls",
      "_view_module_version": "1.5.0",
      "_view_name": "HBoxView",
      "box_style": "",
      "children": [
       "IPY_MODEL_b57c3563250242dc888d48573b31f13f",
       "IPY_MODEL_999c39a4672a4f55bd960af88ed216c5",
       "IPY_MODEL_f655633975ed454f86b8bbdd85d72ad7"
      ],
      "layout": "IPY_MODEL_1ca76a370de140e0b5a5c1598329d019"
     }
    },
    "b57c3563250242dc888d48573b31f13f": {
     "model_module": "@jupyter-widgets/controls",
     "model_name": "HTMLModel",
     "model_module_version": "1.5.0",
     "state": {
      "_dom_classes": [],
      "_model_module": "@jupyter-widgets/controls",
      "_model_module_version": "1.5.0",
      "_model_name": "HTMLModel",
      "_view_count": null,
      "_view_module": "@jupyter-widgets/controls",
      "_view_module_version": "1.5.0",
      "_view_name": "HTMLView",
      "description": "",
      "description_tooltip": null,
      "layout": "IPY_MODEL_02855f055a744011950c119ea28c0101",
      "placeholder": "​",
      "style": "IPY_MODEL_1a589b208e3f4f189b5288c6f42f7860",
      "value": "Downloading model.safetensors: 100%"
     }
    },
    "999c39a4672a4f55bd960af88ed216c5": {
     "model_module": "@jupyter-widgets/controls",
     "model_name": "FloatProgressModel",
     "model_module_version": "1.5.0",
     "state": {
      "_dom_classes": [],
      "_model_module": "@jupyter-widgets/controls",
      "_model_module_version": "1.5.0",
      "_model_name": "FloatProgressModel",
      "_view_count": null,
      "_view_module": "@jupyter-widgets/controls",
      "_view_module_version": "1.5.0",
      "_view_name": "ProgressView",
      "bar_style": "success",
      "description": "",
      "description_tooltip": null,
      "layout": "IPY_MODEL_f87ad86e97634ec29c06ee33fc64c240",
      "max": 548105171,
      "min": 0,
      "orientation": "horizontal",
      "style": "IPY_MODEL_cb964483997d4ad2bff0fac2af6a483c",
      "value": 548105171
     }
    },
    "f655633975ed454f86b8bbdd85d72ad7": {
     "model_module": "@jupyter-widgets/controls",
     "model_name": "HTMLModel",
     "model_module_version": "1.5.0",
     "state": {
      "_dom_classes": [],
      "_model_module": "@jupyter-widgets/controls",
      "_model_module_version": "1.5.0",
      "_model_name": "HTMLModel",
      "_view_count": null,
      "_view_module": "@jupyter-widgets/controls",
      "_view_module_version": "1.5.0",
      "_view_name": "HTMLView",
      "description": "",
      "description_tooltip": null,
      "layout": "IPY_MODEL_b2449d0aaca648a29710d9249eede474",
      "placeholder": "​",
      "style": "IPY_MODEL_7f865c12a4304c0bad6b0c03b309a740",
      "value": " 548M/548M [00:25&lt;00:00, 23.1MB/s]"
     }
    },
    "1ca76a370de140e0b5a5c1598329d019": {
     "model_module": "@jupyter-widgets/base",
     "model_name": "LayoutModel",
     "model_module_version": "1.2.0",
     "state": {
      "_model_module": "@jupyter-widgets/base",
      "_model_module_version": "1.2.0",
      "_model_name": "LayoutModel",
      "_view_count": null,
      "_view_module": "@jupyter-widgets/base",
      "_view_module_version": "1.2.0",
      "_view_name": "LayoutView",
      "align_content": null,
      "align_items": null,
      "align_self": null,
      "border": null,
      "bottom": null,
      "display": null,
      "flex": null,
      "flex_flow": null,
      "grid_area": null,
      "grid_auto_columns": null,
      "grid_auto_flow": null,
      "grid_auto_rows": null,
      "grid_column": null,
      "grid_gap": null,
      "grid_row": null,
      "grid_template_areas": null,
      "grid_template_columns": null,
      "grid_template_rows": null,
      "height": null,
      "justify_content": null,
      "justify_items": null,
      "left": null,
      "margin": null,
      "max_height": null,
      "max_width": null,
      "min_height": null,
      "min_width": null,
      "object_fit": null,
      "object_position": null,
      "order": null,
      "overflow": null,
      "overflow_x": null,
      "overflow_y": null,
      "padding": null,
      "right": null,
      "top": null,
      "visibility": null,
      "width": null
     }
    },
    "02855f055a744011950c119ea28c0101": {
     "model_module": "@jupyter-widgets/base",
     "model_name": "LayoutModel",
     "model_module_version": "1.2.0",
     "state": {
      "_model_module": "@jupyter-widgets/base",
      "_model_module_version": "1.2.0",
      "_model_name": "LayoutModel",
      "_view_count": null,
      "_view_module": "@jupyter-widgets/base",
      "_view_module_version": "1.2.0",
      "_view_name": "LayoutView",
      "align_content": null,
      "align_items": null,
      "align_self": null,
      "border": null,
      "bottom": null,
      "display": null,
      "flex": null,
      "flex_flow": null,
      "grid_area": null,
      "grid_auto_columns": null,
      "grid_auto_flow": null,
      "grid_auto_rows": null,
      "grid_column": null,
      "grid_gap": null,
      "grid_row": null,
      "grid_template_areas": null,
      "grid_template_columns": null,
      "grid_template_rows": null,
      "height": null,
      "justify_content": null,
      "justify_items": null,
      "left": null,
      "margin": null,
      "max_height": null,
      "max_width": null,
      "min_height": null,
      "min_width": null,
      "object_fit": null,
      "object_position": null,
      "order": null,
      "overflow": null,
      "overflow_x": null,
      "overflow_y": null,
      "padding": null,
      "right": null,
      "top": null,
      "visibility": null,
      "width": null
     }
    },
    "1a589b208e3f4f189b5288c6f42f7860": {
     "model_module": "@jupyter-widgets/controls",
     "model_name": "DescriptionStyleModel",
     "model_module_version": "1.5.0",
     "state": {
      "_model_module": "@jupyter-widgets/controls",
      "_model_module_version": "1.5.0",
      "_model_name": "DescriptionStyleModel",
      "_view_count": null,
      "_view_module": "@jupyter-widgets/base",
      "_view_module_version": "1.2.0",
      "_view_name": "StyleView",
      "description_width": ""
     }
    },
    "f87ad86e97634ec29c06ee33fc64c240": {
     "model_module": "@jupyter-widgets/base",
     "model_name": "LayoutModel",
     "model_module_version": "1.2.0",
     "state": {
      "_model_module": "@jupyter-widgets/base",
      "_model_module_version": "1.2.0",
      "_model_name": "LayoutModel",
      "_view_count": null,
      "_view_module": "@jupyter-widgets/base",
      "_view_module_version": "1.2.0",
      "_view_name": "LayoutView",
      "align_content": null,
      "align_items": null,
      "align_self": null,
      "border": null,
      "bottom": null,
      "display": null,
      "flex": null,
      "flex_flow": null,
      "grid_area": null,
      "grid_auto_columns": null,
      "grid_auto_flow": null,
      "grid_auto_rows": null,
      "grid_column": null,
      "grid_gap": null,
      "grid_row": null,
      "grid_template_areas": null,
      "grid_template_columns": null,
      "grid_template_rows": null,
      "height": null,
      "justify_content": null,
      "justify_items": null,
      "left": null,
      "margin": null,
      "max_height": null,
      "max_width": null,
      "min_height": null,
      "min_width": null,
      "object_fit": null,
      "object_position": null,
      "order": null,
      "overflow": null,
      "overflow_x": null,
      "overflow_y": null,
      "padding": null,
      "right": null,
      "top": null,
      "visibility": null,
      "width": null
     }
    },
    "cb964483997d4ad2bff0fac2af6a483c": {
     "model_module": "@jupyter-widgets/controls",
     "model_name": "ProgressStyleModel",
     "model_module_version": "1.5.0",
     "state": {
      "_model_module": "@jupyter-widgets/controls",
      "_model_module_version": "1.5.0",
      "_model_name": "ProgressStyleModel",
      "_view_count": null,
      "_view_module": "@jupyter-widgets/base",
      "_view_module_version": "1.2.0",
      "_view_name": "StyleView",
      "bar_color": null,
      "description_width": ""
     }
    },
    "b2449d0aaca648a29710d9249eede474": {
     "model_module": "@jupyter-widgets/base",
     "model_name": "LayoutModel",
     "model_module_version": "1.2.0",
     "state": {
      "_model_module": "@jupyter-widgets/base",
      "_model_module_version": "1.2.0",
      "_model_name": "LayoutModel",
      "_view_count": null,
      "_view_module": "@jupyter-widgets/base",
      "_view_module_version": "1.2.0",
      "_view_name": "LayoutView",
      "align_content": null,
      "align_items": null,
      "align_self": null,
      "border": null,
      "bottom": null,
      "display": null,
      "flex": null,
      "flex_flow": null,
      "grid_area": null,
      "grid_auto_columns": null,
      "grid_auto_flow": null,
      "grid_auto_rows": null,
      "grid_column": null,
      "grid_gap": null,
      "grid_row": null,
      "grid_template_areas": null,
      "grid_template_columns": null,
      "grid_template_rows": null,
      "height": null,
      "justify_content": null,
      "justify_items": null,
      "left": null,
      "margin": null,
      "max_height": null,
      "max_width": null,
      "min_height": null,
      "min_width": null,
      "object_fit": null,
      "object_position": null,
      "order": null,
      "overflow": null,
      "overflow_x": null,
      "overflow_y": null,
      "padding": null,
      "right": null,
      "top": null,
      "visibility": null,
      "width": null
     }
    },
    "7f865c12a4304c0bad6b0c03b309a740": {
     "model_module": "@jupyter-widgets/controls",
     "model_name": "DescriptionStyleModel",
     "model_module_version": "1.5.0",
     "state": {
      "_model_module": "@jupyter-widgets/controls",
      "_model_module_version": "1.5.0",
      "_model_name": "DescriptionStyleModel",
      "_view_count": null,
      "_view_module": "@jupyter-widgets/base",
      "_view_module_version": "1.2.0",
      "_view_name": "StyleView",
      "description_width": ""
     }
    },
    "98ffd6fd84864d188d2d2bf8ec3deb41": {
     "model_module": "@jupyter-widgets/controls",
     "model_name": "HBoxModel",
     "model_module_version": "1.5.0",
     "state": {
      "_dom_classes": [],
      "_model_module": "@jupyter-widgets/controls",
      "_model_module_version": "1.5.0",
      "_model_name": "HBoxModel",
      "_view_count": null,
      "_view_module": "@jupyter-widgets/controls",
      "_view_module_version": "1.5.0",
      "_view_name": "HBoxView",
      "box_style": "",
      "children": [
       "IPY_MODEL_50dee1f577294402875d98b631c18fe4",
       "IPY_MODEL_858f8875df834175977cf793939e0d71",
       "IPY_MODEL_5a776534d8c245f08aacb365ffd9c8c5"
      ],
      "layout": "IPY_MODEL_11d5c5d8e9ff43beb409b2b2babba861"
     }
    },
    "50dee1f577294402875d98b631c18fe4": {
     "model_module": "@jupyter-widgets/controls",
     "model_name": "HTMLModel",
     "model_module_version": "1.5.0",
     "state": {
      "_dom_classes": [],
      "_model_module": "@jupyter-widgets/controls",
      "_model_module_version": "1.5.0",
      "_model_name": "HTMLModel",
      "_view_count": null,
      "_view_module": "@jupyter-widgets/controls",
      "_view_module_version": "1.5.0",
      "_view_name": "HTMLView",
      "description": "",
      "description_tooltip": null,
      "layout": "IPY_MODEL_b7ea65756e384d65bfe58fe1faee92fb",
      "placeholder": "​",
      "style": "IPY_MODEL_17ddc83f399c432896b89cf082a2aa54",
      "value": "Downloading (…)neration_config.json: 100%"
     }
    },
    "858f8875df834175977cf793939e0d71": {
     "model_module": "@jupyter-widgets/controls",
     "model_name": "FloatProgressModel",
     "model_module_version": "1.5.0",
     "state": {
      "_dom_classes": [],
      "_model_module": "@jupyter-widgets/controls",
      "_model_module_version": "1.5.0",
      "_model_name": "FloatProgressModel",
      "_view_count": null,
      "_view_module": "@jupyter-widgets/controls",
      "_view_module_version": "1.5.0",
      "_view_name": "ProgressView",
      "bar_style": "success",
      "description": "",
      "description_tooltip": null,
      "layout": "IPY_MODEL_93c885b9328647c98d0a161055038054",
      "max": 124,
      "min": 0,
      "orientation": "horizontal",
      "style": "IPY_MODEL_4888fdc9cf944b36b55d165709184ec0",
      "value": 124
     }
    },
    "5a776534d8c245f08aacb365ffd9c8c5": {
     "model_module": "@jupyter-widgets/controls",
     "model_name": "HTMLModel",
     "model_module_version": "1.5.0",
     "state": {
      "_dom_classes": [],
      "_model_module": "@jupyter-widgets/controls",
      "_model_module_version": "1.5.0",
      "_model_name": "HTMLModel",
      "_view_count": null,
      "_view_module": "@jupyter-widgets/controls",
      "_view_module_version": "1.5.0",
      "_view_name": "HTMLView",
      "description": "",
      "description_tooltip": null,
      "layout": "IPY_MODEL_cfff3c18e2e84cc6b58007ec330d865b",
      "placeholder": "​",
      "style": "IPY_MODEL_efe5b80ec677454ebc62cfc86c4b4802",
      "value": " 124/124 [00:00&lt;00:00, 7.28kB/s]"
     }
    },
    "11d5c5d8e9ff43beb409b2b2babba861": {
     "model_module": "@jupyter-widgets/base",
     "model_name": "LayoutModel",
     "model_module_version": "1.2.0",
     "state": {
      "_model_module": "@jupyter-widgets/base",
      "_model_module_version": "1.2.0",
      "_model_name": "LayoutModel",
      "_view_count": null,
      "_view_module": "@jupyter-widgets/base",
      "_view_module_version": "1.2.0",
      "_view_name": "LayoutView",
      "align_content": null,
      "align_items": null,
      "align_self": null,
      "border": null,
      "bottom": null,
      "display": null,
      "flex": null,
      "flex_flow": null,
      "grid_area": null,
      "grid_auto_columns": null,
      "grid_auto_flow": null,
      "grid_auto_rows": null,
      "grid_column": null,
      "grid_gap": null,
      "grid_row": null,
      "grid_template_areas": null,
      "grid_template_columns": null,
      "grid_template_rows": null,
      "height": null,
      "justify_content": null,
      "justify_items": null,
      "left": null,
      "margin": null,
      "max_height": null,
      "max_width": null,
      "min_height": null,
      "min_width": null,
      "object_fit": null,
      "object_position": null,
      "order": null,
      "overflow": null,
      "overflow_x": null,
      "overflow_y": null,
      "padding": null,
      "right": null,
      "top": null,
      "visibility": null,
      "width": null
     }
    },
    "b7ea65756e384d65bfe58fe1faee92fb": {
     "model_module": "@jupyter-widgets/base",
     "model_name": "LayoutModel",
     "model_module_version": "1.2.0",
     "state": {
      "_model_module": "@jupyter-widgets/base",
      "_model_module_version": "1.2.0",
      "_model_name": "LayoutModel",
      "_view_count": null,
      "_view_module": "@jupyter-widgets/base",
      "_view_module_version": "1.2.0",
      "_view_name": "LayoutView",
      "align_content": null,
      "align_items": null,
      "align_self": null,
      "border": null,
      "bottom": null,
      "display": null,
      "flex": null,
      "flex_flow": null,
      "grid_area": null,
      "grid_auto_columns": null,
      "grid_auto_flow": null,
      "grid_auto_rows": null,
      "grid_column": null,
      "grid_gap": null,
      "grid_row": null,
      "grid_template_areas": null,
      "grid_template_columns": null,
      "grid_template_rows": null,
      "height": null,
      "justify_content": null,
      "justify_items": null,
      "left": null,
      "margin": null,
      "max_height": null,
      "max_width": null,
      "min_height": null,
      "min_width": null,
      "object_fit": null,
      "object_position": null,
      "order": null,
      "overflow": null,
      "overflow_x": null,
      "overflow_y": null,
      "padding": null,
      "right": null,
      "top": null,
      "visibility": null,
      "width": null
     }
    },
    "17ddc83f399c432896b89cf082a2aa54": {
     "model_module": "@jupyter-widgets/controls",
     "model_name": "DescriptionStyleModel",
     "model_module_version": "1.5.0",
     "state": {
      "_model_module": "@jupyter-widgets/controls",
      "_model_module_version": "1.5.0",
      "_model_name": "DescriptionStyleModel",
      "_view_count": null,
      "_view_module": "@jupyter-widgets/base",
      "_view_module_version": "1.2.0",
      "_view_name": "StyleView",
      "description_width": ""
     }
    },
    "93c885b9328647c98d0a161055038054": {
     "model_module": "@jupyter-widgets/base",
     "model_name": "LayoutModel",
     "model_module_version": "1.2.0",
     "state": {
      "_model_module": "@jupyter-widgets/base",
      "_model_module_version": "1.2.0",
      "_model_name": "LayoutModel",
      "_view_count": null,
      "_view_module": "@jupyter-widgets/base",
      "_view_module_version": "1.2.0",
      "_view_name": "LayoutView",
      "align_content": null,
      "align_items": null,
      "align_self": null,
      "border": null,
      "bottom": null,
      "display": null,
      "flex": null,
      "flex_flow": null,
      "grid_area": null,
      "grid_auto_columns": null,
      "grid_auto_flow": null,
      "grid_auto_rows": null,
      "grid_column": null,
      "grid_gap": null,
      "grid_row": null,
      "grid_template_areas": null,
      "grid_template_columns": null,
      "grid_template_rows": null,
      "height": null,
      "justify_content": null,
      "justify_items": null,
      "left": null,
      "margin": null,
      "max_height": null,
      "max_width": null,
      "min_height": null,
      "min_width": null,
      "object_fit": null,
      "object_position": null,
      "order": null,
      "overflow": null,
      "overflow_x": null,
      "overflow_y": null,
      "padding": null,
      "right": null,
      "top": null,
      "visibility": null,
      "width": null
     }
    },
    "4888fdc9cf944b36b55d165709184ec0": {
     "model_module": "@jupyter-widgets/controls",
     "model_name": "ProgressStyleModel",
     "model_module_version": "1.5.0",
     "state": {
      "_model_module": "@jupyter-widgets/controls",
      "_model_module_version": "1.5.0",
      "_model_name": "ProgressStyleModel",
      "_view_count": null,
      "_view_module": "@jupyter-widgets/base",
      "_view_module_version": "1.2.0",
      "_view_name": "StyleView",
      "bar_color": null,
      "description_width": ""
     }
    },
    "cfff3c18e2e84cc6b58007ec330d865b": {
     "model_module": "@jupyter-widgets/base",
     "model_name": "LayoutModel",
     "model_module_version": "1.2.0",
     "state": {
      "_model_module": "@jupyter-widgets/base",
      "_model_module_version": "1.2.0",
      "_model_name": "LayoutModel",
      "_view_count": null,
      "_view_module": "@jupyter-widgets/base",
      "_view_module_version": "1.2.0",
      "_view_name": "LayoutView",
      "align_content": null,
      "align_items": null,
      "align_self": null,
      "border": null,
      "bottom": null,
      "display": null,
      "flex": null,
      "flex_flow": null,
      "grid_area": null,
      "grid_auto_columns": null,
      "grid_auto_flow": null,
      "grid_auto_rows": null,
      "grid_column": null,
      "grid_gap": null,
      "grid_row": null,
      "grid_template_areas": null,
      "grid_template_columns": null,
      "grid_template_rows": null,
      "height": null,
      "justify_content": null,
      "justify_items": null,
      "left": null,
      "margin": null,
      "max_height": null,
      "max_width": null,
      "min_height": null,
      "min_width": null,
      "object_fit": null,
      "object_position": null,
      "order": null,
      "overflow": null,
      "overflow_x": null,
      "overflow_y": null,
      "padding": null,
      "right": null,
      "top": null,
      "visibility": null,
      "width": null
     }
    },
    "efe5b80ec677454ebc62cfc86c4b4802": {
     "model_module": "@jupyter-widgets/controls",
     "model_name": "DescriptionStyleModel",
     "model_module_version": "1.5.0",
     "state": {
      "_model_module": "@jupyter-widgets/controls",
      "_model_module_version": "1.5.0",
      "_model_name": "DescriptionStyleModel",
      "_view_count": null,
      "_view_module": "@jupyter-widgets/base",
      "_view_module_version": "1.2.0",
      "_view_name": "StyleView",
      "description_width": ""
     }
    }
   }
  }
 },
 "nbformat": 4,
 "nbformat_minor": 0
}
